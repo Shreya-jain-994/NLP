{
 "cells": [
  {
   "cell_type": "code",
   "execution_count": 1,
   "metadata": {},
   "outputs": [],
   "source": [
    "import nltk\n",
    "import numpy as np\n",
    "import seaborn as sns"
   ]
  },
  {
   "cell_type": "code",
   "execution_count": 2,
   "metadata": {},
   "outputs": [],
   "source": [
    "import pandas as pd"
   ]
  },
  {
   "cell_type": "code",
   "execution_count": 3,
   "metadata": {},
   "outputs": [],
   "source": [
    "df = pd.read_csv(\"amazon.csv\")"
   ]
  },
  {
   "cell_type": "code",
   "execution_count": 4,
   "metadata": {},
   "outputs": [
    {
     "data": {
      "text/html": [
       "<div>\n",
       "<style scoped>\n",
       "    .dataframe tbody tr th:only-of-type {\n",
       "        vertical-align: middle;\n",
       "    }\n",
       "\n",
       "    .dataframe tbody tr th {\n",
       "        vertical-align: top;\n",
       "    }\n",
       "\n",
       "    .dataframe thead th {\n",
       "        text-align: right;\n",
       "    }\n",
       "</style>\n",
       "<table border=\"1\" class=\"dataframe\">\n",
       "  <thead>\n",
       "    <tr style=\"text-align: right;\">\n",
       "      <th></th>\n",
       "      <th>Unnamed: 0</th>\n",
       "      <th>Product Name</th>\n",
       "      <th>Brand Name</th>\n",
       "      <th>Price</th>\n",
       "      <th>Rating</th>\n",
       "      <th>Reviews</th>\n",
       "      <th>Review Votes</th>\n",
       "      <th>Tagged_Review</th>\n",
       "    </tr>\n",
       "  </thead>\n",
       "  <tbody>\n",
       "    <tr>\n",
       "      <th>0</th>\n",
       "      <td>0</td>\n",
       "      <td>\"CLEAR CLEAN ESN\" Sprint EPIC 4G Galaxy SPH-D7...</td>\n",
       "      <td>Samsung</td>\n",
       "      <td>199.99</td>\n",
       "      <td>5</td>\n",
       "      <td>I feel so LUCKY to have found this used (phone...</td>\n",
       "      <td>1.0</td>\n",
       "      <td>[('I', 'PRP'), ('feel', 'VBP'), ('so', 'RB'), ...</td>\n",
       "    </tr>\n",
       "    <tr>\n",
       "      <th>1</th>\n",
       "      <td>1</td>\n",
       "      <td>\"CLEAR CLEAN ESN\" Sprint EPIC 4G Galaxy SPH-D7...</td>\n",
       "      <td>Samsung</td>\n",
       "      <td>199.99</td>\n",
       "      <td>4</td>\n",
       "      <td>nice phone, nice up grade from my pantach revu...</td>\n",
       "      <td>0.0</td>\n",
       "      <td>[('nice', 'JJ'), ('phone,', 'NN'), ('nice', 'J...</td>\n",
       "    </tr>\n",
       "    <tr>\n",
       "      <th>2</th>\n",
       "      <td>2</td>\n",
       "      <td>\"CLEAR CLEAN ESN\" Sprint EPIC 4G Galaxy SPH-D7...</td>\n",
       "      <td>Samsung</td>\n",
       "      <td>199.99</td>\n",
       "      <td>5</td>\n",
       "      <td>Very pleased</td>\n",
       "      <td>0.0</td>\n",
       "      <td>[('Very', 'RB'), ('pleased', 'JJ')]</td>\n",
       "    </tr>\n",
       "    <tr>\n",
       "      <th>3</th>\n",
       "      <td>3</td>\n",
       "      <td>\"CLEAR CLEAN ESN\" Sprint EPIC 4G Galaxy SPH-D7...</td>\n",
       "      <td>Samsung</td>\n",
       "      <td>199.99</td>\n",
       "      <td>4</td>\n",
       "      <td>It works good but it goes slow sometimes but i...</td>\n",
       "      <td>0.0</td>\n",
       "      <td>[('It', 'PRP'), ('works', 'VBZ'), ('good', 'JJ...</td>\n",
       "    </tr>\n",
       "    <tr>\n",
       "      <th>4</th>\n",
       "      <td>4</td>\n",
       "      <td>\"CLEAR CLEAN ESN\" Sprint EPIC 4G Galaxy SPH-D7...</td>\n",
       "      <td>Samsung</td>\n",
       "      <td>199.99</td>\n",
       "      <td>4</td>\n",
       "      <td>Great phone to replace my lost phone. The only...</td>\n",
       "      <td>0.0</td>\n",
       "      <td>[('Great', 'NNP'), ('phone', 'NN'), ('to', 'TO...</td>\n",
       "    </tr>\n",
       "  </tbody>\n",
       "</table>\n",
       "</div>"
      ],
      "text/plain": [
       "   Unnamed: 0                                       Product Name Brand Name  \\\n",
       "0           0  \"CLEAR CLEAN ESN\" Sprint EPIC 4G Galaxy SPH-D7...    Samsung   \n",
       "1           1  \"CLEAR CLEAN ESN\" Sprint EPIC 4G Galaxy SPH-D7...    Samsung   \n",
       "2           2  \"CLEAR CLEAN ESN\" Sprint EPIC 4G Galaxy SPH-D7...    Samsung   \n",
       "3           3  \"CLEAR CLEAN ESN\" Sprint EPIC 4G Galaxy SPH-D7...    Samsung   \n",
       "4           4  \"CLEAR CLEAN ESN\" Sprint EPIC 4G Galaxy SPH-D7...    Samsung   \n",
       "\n",
       "    Price  Rating                                            Reviews  \\\n",
       "0  199.99       5  I feel so LUCKY to have found this used (phone...   \n",
       "1  199.99       4  nice phone, nice up grade from my pantach revu...   \n",
       "2  199.99       5                                       Very pleased   \n",
       "3  199.99       4  It works good but it goes slow sometimes but i...   \n",
       "4  199.99       4  Great phone to replace my lost phone. The only...   \n",
       "\n",
       "   Review Votes                                      Tagged_Review  \n",
       "0           1.0  [('I', 'PRP'), ('feel', 'VBP'), ('so', 'RB'), ...  \n",
       "1           0.0  [('nice', 'JJ'), ('phone,', 'NN'), ('nice', 'J...  \n",
       "2           0.0                [('Very', 'RB'), ('pleased', 'JJ')]  \n",
       "3           0.0  [('It', 'PRP'), ('works', 'VBZ'), ('good', 'JJ...  \n",
       "4           0.0  [('Great', 'NNP'), ('phone', 'NN'), ('to', 'TO...  "
      ]
     },
     "execution_count": 4,
     "metadata": {},
     "output_type": "execute_result"
    }
   ],
   "source": [
    "df.head()"
   ]
  },
  {
   "cell_type": "code",
   "execution_count": 5,
   "metadata": {},
   "outputs": [
    {
     "data": {
      "text/html": [
       "<div>\n",
       "<style scoped>\n",
       "    .dataframe tbody tr th:only-of-type {\n",
       "        vertical-align: middle;\n",
       "    }\n",
       "\n",
       "    .dataframe tbody tr th {\n",
       "        vertical-align: top;\n",
       "    }\n",
       "\n",
       "    .dataframe thead th {\n",
       "        text-align: right;\n",
       "    }\n",
       "</style>\n",
       "<table border=\"1\" class=\"dataframe\">\n",
       "  <thead>\n",
       "    <tr style=\"text-align: right;\">\n",
       "      <th></th>\n",
       "      <th>Unnamed: 0</th>\n",
       "      <th>Product Name</th>\n",
       "      <th>Brand Name</th>\n",
       "      <th>Price</th>\n",
       "      <th>Rating</th>\n",
       "      <th>Reviews</th>\n",
       "      <th>Review Votes</th>\n",
       "      <th>Tagged_Review</th>\n",
       "    </tr>\n",
       "  </thead>\n",
       "  <tbody>\n",
       "    <tr>\n",
       "      <th>413835</th>\n",
       "      <td>413835</td>\n",
       "      <td>Samsung Convoy U640 Phone for Verizon Wireless...</td>\n",
       "      <td>Samsung</td>\n",
       "      <td>79.95</td>\n",
       "      <td>5</td>\n",
       "      <td>another great deal great price</td>\n",
       "      <td>0.0</td>\n",
       "      <td>[('another', 'DT'), ('great', 'JJ'), ('deal', ...</td>\n",
       "    </tr>\n",
       "    <tr>\n",
       "      <th>413836</th>\n",
       "      <td>413836</td>\n",
       "      <td>Samsung Convoy U640 Phone for Verizon Wireless...</td>\n",
       "      <td>Samsung</td>\n",
       "      <td>79.95</td>\n",
       "      <td>3</td>\n",
       "      <td>Ok</td>\n",
       "      <td>0.0</td>\n",
       "      <td>[('Ok', 'NN')]</td>\n",
       "    </tr>\n",
       "    <tr>\n",
       "      <th>413837</th>\n",
       "      <td>413837</td>\n",
       "      <td>Samsung Convoy U640 Phone for Verizon Wireless...</td>\n",
       "      <td>Samsung</td>\n",
       "      <td>79.95</td>\n",
       "      <td>5</td>\n",
       "      <td>Passes every drop test onto porcelain tile!</td>\n",
       "      <td>0.0</td>\n",
       "      <td>[('Passes', 'NNS'), ('every', 'DT'), ('drop', ...</td>\n",
       "    </tr>\n",
       "    <tr>\n",
       "      <th>413838</th>\n",
       "      <td>413838</td>\n",
       "      <td>Samsung Convoy U640 Phone for Verizon Wireless...</td>\n",
       "      <td>Samsung</td>\n",
       "      <td>79.95</td>\n",
       "      <td>3</td>\n",
       "      <td>I returned it because it did not meet my needs...</td>\n",
       "      <td>0.0</td>\n",
       "      <td>[('I', 'PRP'), ('returned', 'VBD'), ('it', 'PR...</td>\n",
       "    </tr>\n",
       "    <tr>\n",
       "      <th>413839</th>\n",
       "      <td>413839</td>\n",
       "      <td>Samsung Convoy U640 Phone for Verizon Wireless...</td>\n",
       "      <td>Samsung</td>\n",
       "      <td>79.95</td>\n",
       "      <td>4</td>\n",
       "      <td>Only downside is that apparently Verizon no lo...</td>\n",
       "      <td>0.0</td>\n",
       "      <td>[('Only', 'RB'), ('downside', 'NN'), ('is', 'V...</td>\n",
       "    </tr>\n",
       "  </tbody>\n",
       "</table>\n",
       "</div>"
      ],
      "text/plain": [
       "        Unnamed: 0                                       Product Name  \\\n",
       "413835      413835  Samsung Convoy U640 Phone for Verizon Wireless...   \n",
       "413836      413836  Samsung Convoy U640 Phone for Verizon Wireless...   \n",
       "413837      413837  Samsung Convoy U640 Phone for Verizon Wireless...   \n",
       "413838      413838  Samsung Convoy U640 Phone for Verizon Wireless...   \n",
       "413839      413839  Samsung Convoy U640 Phone for Verizon Wireless...   \n",
       "\n",
       "       Brand Name  Price  Rating  \\\n",
       "413835    Samsung  79.95       5   \n",
       "413836    Samsung  79.95       3   \n",
       "413837    Samsung  79.95       5   \n",
       "413838    Samsung  79.95       3   \n",
       "413839    Samsung  79.95       4   \n",
       "\n",
       "                                                  Reviews  Review Votes  \\\n",
       "413835                     another great deal great price           0.0   \n",
       "413836                                                 Ok           0.0   \n",
       "413837        Passes every drop test onto porcelain tile!           0.0   \n",
       "413838  I returned it because it did not meet my needs...           0.0   \n",
       "413839  Only downside is that apparently Verizon no lo...           0.0   \n",
       "\n",
       "                                            Tagged_Review  \n",
       "413835  [('another', 'DT'), ('great', 'JJ'), ('deal', ...  \n",
       "413836                                     [('Ok', 'NN')]  \n",
       "413837  [('Passes', 'NNS'), ('every', 'DT'), ('drop', ...  \n",
       "413838  [('I', 'PRP'), ('returned', 'VBD'), ('it', 'PR...  \n",
       "413839  [('Only', 'RB'), ('downside', 'NN'), ('is', 'V...  "
      ]
     },
     "execution_count": 5,
     "metadata": {},
     "output_type": "execute_result"
    }
   ],
   "source": [
    "df.tail()"
   ]
  },
  {
   "cell_type": "code",
   "execution_count": 6,
   "metadata": {},
   "outputs": [
    {
     "data": {
      "text/plain": [
       "(413840, 8)"
      ]
     },
     "execution_count": 6,
     "metadata": {},
     "output_type": "execute_result"
    }
   ],
   "source": [
    "df.shape"
   ]
  },
  {
   "cell_type": "code",
   "execution_count": 7,
   "metadata": {},
   "outputs": [
    {
     "data": {
      "text/plain": [
       "Unnamed: 0           0\n",
       "Product Name         0\n",
       "Brand Name       65171\n",
       "Price             5933\n",
       "Rating               0\n",
       "Reviews             62\n",
       "Review Votes     12296\n",
       "Tagged_Review        0\n",
       "dtype: int64"
      ]
     },
     "execution_count": 7,
     "metadata": {},
     "output_type": "execute_result"
    }
   ],
   "source": [
    "df.isnull().sum()"
   ]
  },
  {
   "cell_type": "code",
   "execution_count": 8,
   "metadata": {},
   "outputs": [
    {
     "data": {
      "text/plain": [
       "Brand Name       65171\n",
       "Review Votes     12296\n",
       "Price             5933\n",
       "Reviews             62\n",
       "Unnamed: 0           0\n",
       "Product Name         0\n",
       "Rating               0\n",
       "Tagged_Review        0\n",
       "dtype: int64"
      ]
     },
     "execution_count": 8,
     "metadata": {},
     "output_type": "execute_result"
    }
   ],
   "source": [
    "df.isnull().sum().sort_values(ascending=False)"
   ]
  },
  {
   "cell_type": "code",
   "execution_count": 10,
   "metadata": {},
   "outputs": [],
   "source": [
    "df.dropna(inplace=True)"
   ]
  },
  {
   "cell_type": "code",
   "execution_count": 11,
   "metadata": {},
   "outputs": [
    {
     "data": {
      "text/plain": [
       "5    180253\n",
       "1     57535\n",
       "4     50421\n",
       "3     26058\n",
       "2     20068\n",
       "Name: Rating, dtype: int64"
      ]
     },
     "execution_count": 11,
     "metadata": {},
     "output_type": "execute_result"
    }
   ],
   "source": [
    "# Unique ratings\n",
    "df[\"Rating\"].value_counts()"
   ]
  },
  {
   "cell_type": "code",
   "execution_count": 12,
   "metadata": {},
   "outputs": [
    {
     "data": {
      "text/html": [
       "<div>\n",
       "<style scoped>\n",
       "    .dataframe tbody tr th:only-of-type {\n",
       "        vertical-align: middle;\n",
       "    }\n",
       "\n",
       "    .dataframe tbody tr th {\n",
       "        vertical-align: top;\n",
       "    }\n",
       "\n",
       "    .dataframe thead th {\n",
       "        text-align: right;\n",
       "    }\n",
       "</style>\n",
       "<table border=\"1\" class=\"dataframe\">\n",
       "  <thead>\n",
       "    <tr style=\"text-align: right;\">\n",
       "      <th></th>\n",
       "      <th>Unnamed: 0</th>\n",
       "      <th>Product Name</th>\n",
       "      <th>Brand Name</th>\n",
       "      <th>Price</th>\n",
       "      <th>Rating</th>\n",
       "      <th>Reviews</th>\n",
       "      <th>Review Votes</th>\n",
       "      <th>Tagged_Review</th>\n",
       "    </tr>\n",
       "  </thead>\n",
       "  <tbody>\n",
       "    <tr>\n",
       "      <th>0</th>\n",
       "      <td>0</td>\n",
       "      <td>\"CLEAR CLEAN ESN\" Sprint EPIC 4G Galaxy SPH-D7...</td>\n",
       "      <td>Samsung</td>\n",
       "      <td>199.99</td>\n",
       "      <td>5</td>\n",
       "      <td>I feel so LUCKY to have found this used (phone...</td>\n",
       "      <td>1.0</td>\n",
       "      <td>[('I', 'PRP'), ('feel', 'VBP'), ('so', 'RB'), ...</td>\n",
       "    </tr>\n",
       "    <tr>\n",
       "      <th>1</th>\n",
       "      <td>1</td>\n",
       "      <td>\"CLEAR CLEAN ESN\" Sprint EPIC 4G Galaxy SPH-D7...</td>\n",
       "      <td>Samsung</td>\n",
       "      <td>199.99</td>\n",
       "      <td>4</td>\n",
       "      <td>nice phone, nice up grade from my pantach revu...</td>\n",
       "      <td>0.0</td>\n",
       "      <td>[('nice', 'JJ'), ('phone,', 'NN'), ('nice', 'J...</td>\n",
       "    </tr>\n",
       "    <tr>\n",
       "      <th>2</th>\n",
       "      <td>2</td>\n",
       "      <td>\"CLEAR CLEAN ESN\" Sprint EPIC 4G Galaxy SPH-D7...</td>\n",
       "      <td>Samsung</td>\n",
       "      <td>199.99</td>\n",
       "      <td>5</td>\n",
       "      <td>Very pleased</td>\n",
       "      <td>0.0</td>\n",
       "      <td>[('Very', 'RB'), ('pleased', 'JJ')]</td>\n",
       "    </tr>\n",
       "    <tr>\n",
       "      <th>3</th>\n",
       "      <td>3</td>\n",
       "      <td>\"CLEAR CLEAN ESN\" Sprint EPIC 4G Galaxy SPH-D7...</td>\n",
       "      <td>Samsung</td>\n",
       "      <td>199.99</td>\n",
       "      <td>4</td>\n",
       "      <td>It works good but it goes slow sometimes but i...</td>\n",
       "      <td>0.0</td>\n",
       "      <td>[('It', 'PRP'), ('works', 'VBZ'), ('good', 'JJ...</td>\n",
       "    </tr>\n",
       "    <tr>\n",
       "      <th>4</th>\n",
       "      <td>4</td>\n",
       "      <td>\"CLEAR CLEAN ESN\" Sprint EPIC 4G Galaxy SPH-D7...</td>\n",
       "      <td>Samsung</td>\n",
       "      <td>199.99</td>\n",
       "      <td>4</td>\n",
       "      <td>Great phone to replace my lost phone. The only...</td>\n",
       "      <td>0.0</td>\n",
       "      <td>[('Great', 'NNP'), ('phone', 'NN'), ('to', 'TO...</td>\n",
       "    </tr>\n",
       "    <tr>\n",
       "      <th>...</th>\n",
       "      <td>...</td>\n",
       "      <td>...</td>\n",
       "      <td>...</td>\n",
       "      <td>...</td>\n",
       "      <td>...</td>\n",
       "      <td>...</td>\n",
       "      <td>...</td>\n",
       "      <td>...</td>\n",
       "    </tr>\n",
       "    <tr>\n",
       "      <th>413832</th>\n",
       "      <td>413832</td>\n",
       "      <td>Samsung Convoy U640 Phone for Verizon Wireless...</td>\n",
       "      <td>Samsung</td>\n",
       "      <td>79.95</td>\n",
       "      <td>4</td>\n",
       "      <td>good rugged phone that has a long-lasting batt...</td>\n",
       "      <td>0.0</td>\n",
       "      <td>[('good', 'JJ'), ('rugged', 'VBD'), ('phone', ...</td>\n",
       "    </tr>\n",
       "    <tr>\n",
       "      <th>413834</th>\n",
       "      <td>413834</td>\n",
       "      <td>Samsung Convoy U640 Phone for Verizon Wireless...</td>\n",
       "      <td>Samsung</td>\n",
       "      <td>79.95</td>\n",
       "      <td>1</td>\n",
       "      <td>used hard</td>\n",
       "      <td>0.0</td>\n",
       "      <td>[('used', 'VBN'), ('hard', 'RB')]</td>\n",
       "    </tr>\n",
       "    <tr>\n",
       "      <th>413835</th>\n",
       "      <td>413835</td>\n",
       "      <td>Samsung Convoy U640 Phone for Verizon Wireless...</td>\n",
       "      <td>Samsung</td>\n",
       "      <td>79.95</td>\n",
       "      <td>5</td>\n",
       "      <td>another great deal great price</td>\n",
       "      <td>0.0</td>\n",
       "      <td>[('another', 'DT'), ('great', 'JJ'), ('deal', ...</td>\n",
       "    </tr>\n",
       "    <tr>\n",
       "      <th>413837</th>\n",
       "      <td>413837</td>\n",
       "      <td>Samsung Convoy U640 Phone for Verizon Wireless...</td>\n",
       "      <td>Samsung</td>\n",
       "      <td>79.95</td>\n",
       "      <td>5</td>\n",
       "      <td>Passes every drop test onto porcelain tile!</td>\n",
       "      <td>0.0</td>\n",
       "      <td>[('Passes', 'NNS'), ('every', 'DT'), ('drop', ...</td>\n",
       "    </tr>\n",
       "    <tr>\n",
       "      <th>413839</th>\n",
       "      <td>413839</td>\n",
       "      <td>Samsung Convoy U640 Phone for Verizon Wireless...</td>\n",
       "      <td>Samsung</td>\n",
       "      <td>79.95</td>\n",
       "      <td>4</td>\n",
       "      <td>Only downside is that apparently Verizon no lo...</td>\n",
       "      <td>0.0</td>\n",
       "      <td>[('Only', 'RB'), ('downside', 'NN'), ('is', 'V...</td>\n",
       "    </tr>\n",
       "  </tbody>\n",
       "</table>\n",
       "<p>308277 rows × 8 columns</p>\n",
       "</div>"
      ],
      "text/plain": [
       "        Unnamed: 0                                       Product Name  \\\n",
       "0                0  \"CLEAR CLEAN ESN\" Sprint EPIC 4G Galaxy SPH-D7...   \n",
       "1                1  \"CLEAR CLEAN ESN\" Sprint EPIC 4G Galaxy SPH-D7...   \n",
       "2                2  \"CLEAR CLEAN ESN\" Sprint EPIC 4G Galaxy SPH-D7...   \n",
       "3                3  \"CLEAR CLEAN ESN\" Sprint EPIC 4G Galaxy SPH-D7...   \n",
       "4                4  \"CLEAR CLEAN ESN\" Sprint EPIC 4G Galaxy SPH-D7...   \n",
       "...            ...                                                ...   \n",
       "413832      413832  Samsung Convoy U640 Phone for Verizon Wireless...   \n",
       "413834      413834  Samsung Convoy U640 Phone for Verizon Wireless...   \n",
       "413835      413835  Samsung Convoy U640 Phone for Verizon Wireless...   \n",
       "413837      413837  Samsung Convoy U640 Phone for Verizon Wireless...   \n",
       "413839      413839  Samsung Convoy U640 Phone for Verizon Wireless...   \n",
       "\n",
       "       Brand Name   Price  Rating  \\\n",
       "0         Samsung  199.99       5   \n",
       "1         Samsung  199.99       4   \n",
       "2         Samsung  199.99       5   \n",
       "3         Samsung  199.99       4   \n",
       "4         Samsung  199.99       4   \n",
       "...           ...     ...     ...   \n",
       "413832    Samsung   79.95       4   \n",
       "413834    Samsung   79.95       1   \n",
       "413835    Samsung   79.95       5   \n",
       "413837    Samsung   79.95       5   \n",
       "413839    Samsung   79.95       4   \n",
       "\n",
       "                                                  Reviews  Review Votes  \\\n",
       "0       I feel so LUCKY to have found this used (phone...           1.0   \n",
       "1       nice phone, nice up grade from my pantach revu...           0.0   \n",
       "2                                            Very pleased           0.0   \n",
       "3       It works good but it goes slow sometimes but i...           0.0   \n",
       "4       Great phone to replace my lost phone. The only...           0.0   \n",
       "...                                                   ...           ...   \n",
       "413832  good rugged phone that has a long-lasting batt...           0.0   \n",
       "413834                                          used hard           0.0   \n",
       "413835                     another great deal great price           0.0   \n",
       "413837        Passes every drop test onto porcelain tile!           0.0   \n",
       "413839  Only downside is that apparently Verizon no lo...           0.0   \n",
       "\n",
       "                                            Tagged_Review  \n",
       "0       [('I', 'PRP'), ('feel', 'VBP'), ('so', 'RB'), ...  \n",
       "1       [('nice', 'JJ'), ('phone,', 'NN'), ('nice', 'J...  \n",
       "2                     [('Very', 'RB'), ('pleased', 'JJ')]  \n",
       "3       [('It', 'PRP'), ('works', 'VBZ'), ('good', 'JJ...  \n",
       "4       [('Great', 'NNP'), ('phone', 'NN'), ('to', 'TO...  \n",
       "...                                                   ...  \n",
       "413832  [('good', 'JJ'), ('rugged', 'VBD'), ('phone', ...  \n",
       "413834                  [('used', 'VBN'), ('hard', 'RB')]  \n",
       "413835  [('another', 'DT'), ('great', 'JJ'), ('deal', ...  \n",
       "413837  [('Passes', 'NNS'), ('every', 'DT'), ('drop', ...  \n",
       "413839  [('Only', 'RB'), ('downside', 'NN'), ('is', 'V...  \n",
       "\n",
       "[308277 rows x 8 columns]"
      ]
     },
     "execution_count": 12,
     "metadata": {},
     "output_type": "execute_result"
    }
   ],
   "source": [
    "df[df[\"Rating\"]!= 3]"
   ]
  },
  {
   "cell_type": "code",
   "execution_count": 13,
   "metadata": {},
   "outputs": [],
   "source": [
    "df = df[df[\"Rating\"]!= 3]"
   ]
  },
  {
   "cell_type": "code",
   "execution_count": 14,
   "metadata": {},
   "outputs": [
    {
     "data": {
      "text/plain": [
       "5    180253\n",
       "1     57535\n",
       "4     50421\n",
       "2     20068\n",
       "Name: Rating, dtype: int64"
      ]
     },
     "execution_count": 14,
     "metadata": {},
     "output_type": "execute_result"
    }
   ],
   "source": [
    "df[\"Rating\"].value_counts()"
   ]
  },
  {
   "cell_type": "code",
   "execution_count": 16,
   "metadata": {},
   "outputs": [],
   "source": [
    "df[\"Positively Rated\"]= np.where(df[\"Rating\"] > 3, 1, 0)"
   ]
  },
  {
   "cell_type": "code",
   "execution_count": 17,
   "metadata": {},
   "outputs": [
    {
     "data": {
      "text/html": [
       "<div>\n",
       "<style scoped>\n",
       "    .dataframe tbody tr th:only-of-type {\n",
       "        vertical-align: middle;\n",
       "    }\n",
       "\n",
       "    .dataframe tbody tr th {\n",
       "        vertical-align: top;\n",
       "    }\n",
       "\n",
       "    .dataframe thead th {\n",
       "        text-align: right;\n",
       "    }\n",
       "</style>\n",
       "<table border=\"1\" class=\"dataframe\">\n",
       "  <thead>\n",
       "    <tr style=\"text-align: right;\">\n",
       "      <th></th>\n",
       "      <th>Unnamed: 0</th>\n",
       "      <th>Product Name</th>\n",
       "      <th>Brand Name</th>\n",
       "      <th>Price</th>\n",
       "      <th>Rating</th>\n",
       "      <th>Reviews</th>\n",
       "      <th>Review Votes</th>\n",
       "      <th>Tagged_Review</th>\n",
       "      <th>Positively Rated</th>\n",
       "    </tr>\n",
       "  </thead>\n",
       "  <tbody>\n",
       "    <tr>\n",
       "      <th>0</th>\n",
       "      <td>0</td>\n",
       "      <td>\"CLEAR CLEAN ESN\" Sprint EPIC 4G Galaxy SPH-D7...</td>\n",
       "      <td>Samsung</td>\n",
       "      <td>199.99</td>\n",
       "      <td>5</td>\n",
       "      <td>I feel so LUCKY to have found this used (phone...</td>\n",
       "      <td>1.0</td>\n",
       "      <td>[('I', 'PRP'), ('feel', 'VBP'), ('so', 'RB'), ...</td>\n",
       "      <td>1</td>\n",
       "    </tr>\n",
       "    <tr>\n",
       "      <th>1</th>\n",
       "      <td>1</td>\n",
       "      <td>\"CLEAR CLEAN ESN\" Sprint EPIC 4G Galaxy SPH-D7...</td>\n",
       "      <td>Samsung</td>\n",
       "      <td>199.99</td>\n",
       "      <td>4</td>\n",
       "      <td>nice phone, nice up grade from my pantach revu...</td>\n",
       "      <td>0.0</td>\n",
       "      <td>[('nice', 'JJ'), ('phone,', 'NN'), ('nice', 'J...</td>\n",
       "      <td>1</td>\n",
       "    </tr>\n",
       "    <tr>\n",
       "      <th>2</th>\n",
       "      <td>2</td>\n",
       "      <td>\"CLEAR CLEAN ESN\" Sprint EPIC 4G Galaxy SPH-D7...</td>\n",
       "      <td>Samsung</td>\n",
       "      <td>199.99</td>\n",
       "      <td>5</td>\n",
       "      <td>Very pleased</td>\n",
       "      <td>0.0</td>\n",
       "      <td>[('Very', 'RB'), ('pleased', 'JJ')]</td>\n",
       "      <td>1</td>\n",
       "    </tr>\n",
       "    <tr>\n",
       "      <th>3</th>\n",
       "      <td>3</td>\n",
       "      <td>\"CLEAR CLEAN ESN\" Sprint EPIC 4G Galaxy SPH-D7...</td>\n",
       "      <td>Samsung</td>\n",
       "      <td>199.99</td>\n",
       "      <td>4</td>\n",
       "      <td>It works good but it goes slow sometimes but i...</td>\n",
       "      <td>0.0</td>\n",
       "      <td>[('It', 'PRP'), ('works', 'VBZ'), ('good', 'JJ...</td>\n",
       "      <td>1</td>\n",
       "    </tr>\n",
       "    <tr>\n",
       "      <th>4</th>\n",
       "      <td>4</td>\n",
       "      <td>\"CLEAR CLEAN ESN\" Sprint EPIC 4G Galaxy SPH-D7...</td>\n",
       "      <td>Samsung</td>\n",
       "      <td>199.99</td>\n",
       "      <td>4</td>\n",
       "      <td>Great phone to replace my lost phone. The only...</td>\n",
       "      <td>0.0</td>\n",
       "      <td>[('Great', 'NNP'), ('phone', 'NN'), ('to', 'TO...</td>\n",
       "      <td>1</td>\n",
       "    </tr>\n",
       "  </tbody>\n",
       "</table>\n",
       "</div>"
      ],
      "text/plain": [
       "   Unnamed: 0                                       Product Name Brand Name  \\\n",
       "0           0  \"CLEAR CLEAN ESN\" Sprint EPIC 4G Galaxy SPH-D7...    Samsung   \n",
       "1           1  \"CLEAR CLEAN ESN\" Sprint EPIC 4G Galaxy SPH-D7...    Samsung   \n",
       "2           2  \"CLEAR CLEAN ESN\" Sprint EPIC 4G Galaxy SPH-D7...    Samsung   \n",
       "3           3  \"CLEAR CLEAN ESN\" Sprint EPIC 4G Galaxy SPH-D7...    Samsung   \n",
       "4           4  \"CLEAR CLEAN ESN\" Sprint EPIC 4G Galaxy SPH-D7...    Samsung   \n",
       "\n",
       "    Price  Rating                                            Reviews  \\\n",
       "0  199.99       5  I feel so LUCKY to have found this used (phone...   \n",
       "1  199.99       4  nice phone, nice up grade from my pantach revu...   \n",
       "2  199.99       5                                       Very pleased   \n",
       "3  199.99       4  It works good but it goes slow sometimes but i...   \n",
       "4  199.99       4  Great phone to replace my lost phone. The only...   \n",
       "\n",
       "   Review Votes                                      Tagged_Review  \\\n",
       "0           1.0  [('I', 'PRP'), ('feel', 'VBP'), ('so', 'RB'), ...   \n",
       "1           0.0  [('nice', 'JJ'), ('phone,', 'NN'), ('nice', 'J...   \n",
       "2           0.0                [('Very', 'RB'), ('pleased', 'JJ')]   \n",
       "3           0.0  [('It', 'PRP'), ('works', 'VBZ'), ('good', 'JJ...   \n",
       "4           0.0  [('Great', 'NNP'), ('phone', 'NN'), ('to', 'TO...   \n",
       "\n",
       "   Positively Rated  \n",
       "0                 1  \n",
       "1                 1  \n",
       "2                 1  \n",
       "3                 1  \n",
       "4                 1  "
      ]
     },
     "execution_count": 17,
     "metadata": {},
     "output_type": "execute_result"
    }
   ],
   "source": [
    "df.head()"
   ]
  },
  {
   "cell_type": "code",
   "execution_count": 18,
   "metadata": {},
   "outputs": [
    {
     "data": {
      "text/plain": [
       "1    230674\n",
       "0     77603\n",
       "Name: Positively Rated, dtype: int64"
      ]
     },
     "execution_count": 18,
     "metadata": {},
     "output_type": "execute_result"
    }
   ],
   "source": [
    "df['Positively Rated'].value_counts()"
   ]
  },
  {
   "cell_type": "code",
   "execution_count": 19,
   "metadata": {},
   "outputs": [
    {
     "name": "stderr",
     "output_type": "stream",
     "text": [
      "C:\\Users\\Bhupesh.Marathe\\Anaconda3\\lib\\site-packages\\seaborn\\_decorators.py:36: FutureWarning: Pass the following variable as a keyword arg: x. From version 0.12, the only valid positional argument will be `data`, and passing other arguments without an explicit keyword will result in an error or misinterpretation.\n",
      "  warnings.warn(\n"
     ]
    },
    {
     "data": {
      "text/plain": [
       "<AxesSubplot:xlabel='Positively Rated', ylabel='count'>"
      ]
     },
     "execution_count": 19,
     "metadata": {},
     "output_type": "execute_result"
    },
    {
     "data": {
      "image/png": "[encoded data removed]",
      "text/plain": [
       "<Figure size 432x288 with 1 Axes>"
      ]
     },
     "metadata": {
      "needs_background": "light"
     },
     "output_type": "display_data"
    }
   ],
   "source": [
    "sns.countplot(df[\"Positively Rated\"])"
   ]
  },
  {
   "cell_type": "code",
   "execution_count": 20,
   "metadata": {},
   "outputs": [
    {
     "data": {
      "text/plain": [
       "count    308277.000000\n",
       "mean          0.748269\n",
       "std           0.434008\n",
       "min           0.000000\n",
       "25%           0.000000\n",
       "50%           1.000000\n",
       "75%           1.000000\n",
       "max           1.000000\n",
       "Name: Positively Rated, dtype: float64"
      ]
     },
     "execution_count": 20,
     "metadata": {},
     "output_type": "execute_result"
    }
   ],
   "source": [
    "df['Positively Rated'].describe()"
   ]
  },
  {
   "cell_type": "code",
   "execution_count": 21,
   "metadata": {},
   "outputs": [],
   "source": [
    "from sklearn.model_selection import train_test_split"
   ]
  },
  {
   "cell_type": "code",
   "execution_count": 22,
   "metadata": {},
   "outputs": [],
   "source": [
    "X_train, X_test, y_train, y_test = train_test_split(df[\"Reviews\"], df[\"Positively Rated\"],\n",
    "                                                   random_state=0)"
   ]
  },
  {
   "cell_type": "code",
   "execution_count": 23,
   "metadata": {},
   "outputs": [
    {
     "name": "stdout",
     "output_type": "stream",
     "text": [
      "97039     I bought a BB Black and was deliveried a White...\n",
      "243783    overall i am very happy so far with this phone...\n",
      "88792     the keyboard stutters! after i made a research...\n",
      "388802    excellent smart phone, good performance. all p...\n",
      "161607    I received my new Blu Vivo 5 Smartphone 3 days...\n",
      "                                ...                        \n",
      "159246                                            excellent\n",
      "408347    Works great. Just waiting for my upgrade so I ...\n",
      "197432    Although I'm only 26 I'm kind of a backwoods h...\n",
      "153503              for the money not bad, but cheaply made\n",
      "410159    broke it to quick tho now i need to get anothe...\n",
      "Name: Reviews, Length: 231207, dtype: object\n"
     ]
    }
   ],
   "source": [
    "print(X_train)"
   ]
  },
  {
   "cell_type": "code",
   "execution_count": 24,
   "metadata": {},
   "outputs": [
    {
     "data": {
      "text/plain": [
       "\"I feel so LUCKY to have found this used (phone to us & not used hard at all), phone on line from someone who upgraded and sold this one. My Son liked his old one that finally fell apart after 2.5+ years and didn't want an upgrade!! Thank you Seller, we really appreciate it & your honesty re: said used phone.I recommend this seller very highly & would but from them again!!\""
      ]
     },
     "execution_count": 24,
     "metadata": {},
     "output_type": "execute_result"
    }
   ],
   "source": [
    "X_train[0]"
   ]
  },
  {
   "cell_type": "code",
   "execution_count": 26,
   "metadata": {},
   "outputs": [],
   "source": [
    "from sklearn.feature_extraction.text import CountVectorizer"
   ]
  },
  {
   "cell_type": "code",
   "execution_count": 27,
   "metadata": {},
   "outputs": [],
   "source": [
    "vect = CountVectorizer().fit(X_train)"
   ]
  },
  {
   "cell_type": "code",
   "execution_count": 28,
   "metadata": {},
   "outputs": [
    {
     "name": "stdout",
     "output_type": "stream",
     "text": [
      "CountVectorizer()\n"
     ]
    }
   ],
   "source": [
    "print(vect)"
   ]
  },
  {
   "cell_type": "code",
   "execution_count": 29,
   "metadata": {},
   "outputs": [
    {
     "data": {
      "text/plain": [
       "['00',\n",
       " '2048those',\n",
       " '4less',\n",
       " '99303',\n",
       " 'adr6275',\n",
       " 'andentering',\n",
       " 'assignment',\n",
       " 'bandwidth',\n",
       " 'blazingly',\n",
       " 'bullets',\n",
       " 'cassettes',\n",
       " 'cleary',\n",
       " 'condishion',\n",
       " 'cpl',\n",
       " 'debi',\n",
       " 'deғιnιтely',\n",
       " 'dollarsshipping',\n",
       " 'ele',\n",
       " 'esteem',\n",
       " 'eyeglasses',\n",
       " 'flashy',\n",
       " 'fusion2',\n",
       " 'gorila',\n",
       " 'hasbro',\n",
       " 'human',\n",
       " 'inefficiencies',\n",
       " 'irullu',\n",
       " 'kinds',\n",
       " 'like',\n",
       " 'makeup',\n",
       " 'microsaudered',\n",
       " 'msgi',\n",
       " 'nightmarish',\n",
       " 'oldy',\n",
       " 'p770',\n",
       " 'phalet',\n",
       " 'poori',\n",
       " 'productsaid',\n",
       " 'quirky',\n",
       " 'rediculoius',\n",
       " 'responseive',\n",
       " 'sadness',\n",
       " 'send',\n",
       " 'sir',\n",
       " 'sos',\n",
       " 'storecons',\n",
       " 'synch',\n",
       " 'them',\n",
       " 'trace',\n",
       " 'unconditional',\n",
       " 'utiles',\n",
       " 'waiste',\n",
       " 'withstanding',\n",
       " 'zeis']"
      ]
     },
     "execution_count": 29,
     "metadata": {},
     "output_type": "execute_result"
    }
   ],
   "source": [
    "vect.get_feature_names()[::1000]"
   ]
  },
  {
   "cell_type": "code",
   "execution_count": 30,
   "metadata": {},
   "outputs": [
    {
     "data": {
      "text/plain": [
       "53216"
      ]
     },
     "execution_count": 30,
     "metadata": {},
     "output_type": "execute_result"
    }
   ],
   "source": [
    "len(vect.get_feature_names())"
   ]
  },
  {
   "cell_type": "code",
   "execution_count": 31,
   "metadata": {},
   "outputs": [],
   "source": [
    "X_train_vectorized = vect.transform(X_train)"
   ]
  },
  {
   "cell_type": "code",
   "execution_count": 33,
   "metadata": {},
   "outputs": [
    {
     "data": {
      "text/plain": [
       "<231207x53216 sparse matrix of type '<class 'numpy.int64'>'\n",
       "\twith 6117776 stored elements in Compressed Sparse Row format>"
      ]
     },
     "execution_count": 33,
     "metadata": {},
     "output_type": "execute_result"
    }
   ],
   "source": [
    "X_train_vectorized"
   ]
  },
  {
   "cell_type": "code",
   "execution_count": 34,
   "metadata": {},
   "outputs": [
    {
     "name": "stdout",
     "output_type": "stream",
     "text": [
      "  (0, 4986)\t1\n",
      "  (0, 7259)\t2\n",
      "  (0, 7676)\t1\n",
      "  (0, 7878)\t1\n",
      "  (0, 8476)\t1\n",
      "  (0, 9637)\t1\n",
      "  (0, 14420)\t1\n",
      "  (0, 26003)\t2\n",
      "  (0, 31892)\t1\n",
      "  (0, 32284)\t1\n",
      "  (0, 33437)\t1\n",
      "  (0, 37356)\t1\n",
      "  (0, 38473)\t1\n",
      "  (0, 42146)\t1\n",
      "  (0, 46946)\t1\n",
      "  (0, 47462)\t1\n",
      "  (0, 47639)\t1\n",
      "  (0, 51169)\t1\n",
      "  (0, 51673)\t1\n",
      "  (1, 142)\t1\n",
      "  (1, 807)\t1\n",
      "  (1, 860)\t1\n",
      "  (1, 1960)\t2\n",
      "  (1, 2372)\t1\n",
      "  (1, 3696)\t1\n",
      "  :\t:\n",
      "  (231205, 32284)\t1\n",
      "  (231205, 46946)\t1\n",
      "  (231206, 4986)\t1\n",
      "  (231206, 5188)\t1\n",
      "  (231206, 5868)\t1\n",
      "  (231206, 8751)\t1\n",
      "  (231206, 9956)\t1\n",
      "  (231206, 21497)\t2\n",
      "  (231206, 26106)\t3\n",
      "  (231206, 30767)\t1\n",
      "  (231206, 31617)\t1\n",
      "  (231206, 32100)\t1\n",
      "  (231206, 32422)\t1\n",
      "  (231206, 33069)\t1\n",
      "  (231206, 33080)\t1\n",
      "  (231206, 35827)\t1\n",
      "  (231206, 37940)\t1\n",
      "  (231206, 41563)\t1\n",
      "  (231206, 47193)\t1\n",
      "  (231206, 47233)\t1\n",
      "  (231206, 47473)\t1\n",
      "  (231206, 47639)\t2\n",
      "  (231206, 49855)\t1\n",
      "  (231206, 51606)\t1\n",
      "  (231206, 52818)\t1\n"
     ]
    }
   ],
   "source": [
    "print(X_train_vectorized)"
   ]
  },
  {
   "cell_type": "code",
   "execution_count": 37,
   "metadata": {},
   "outputs": [],
   "source": [
    "from sklearn.linear_model import LogisticRegression"
   ]
  },
  {
   "cell_type": "code",
   "execution_count": 38,
   "metadata": {},
   "outputs": [],
   "source": [
    "model = LogisticRegression()"
   ]
  },
  {
   "cell_type": "code",
   "execution_count": 39,
   "metadata": {},
   "outputs": [
    {
     "name": "stderr",
     "output_type": "stream",
     "text": [
      "C:\\Users\\Bhupesh.Marathe\\Anaconda3\\lib\\site-packages\\sklearn\\linear_model\\_logistic.py:763: ConvergenceWarning: lbfgs failed to converge (status=1):\n",
      "STOP: TOTAL NO. of ITERATIONS REACHED LIMIT.\n",
      "\n",
      "Increase the number of iterations (max_iter) or scale the data as shown in:\n",
      "    https://scikit-learn.org/stable/modules/preprocessing.html\n",
      "Please also refer to the documentation for alternative solver options:\n",
      "    https://scikit-learn.org/stable/modules/linear_model.html#logistic-regression\n",
      "  n_iter_i = _check_optimize_result(\n"
     ]
    },
    {
     "data": {
      "text/plain": [
       "LogisticRegression()"
      ]
     },
     "execution_count": 39,
     "metadata": {},
     "output_type": "execute_result"
    }
   ],
   "source": [
    "model.fit(X_train_vectorized, y_train)"
   ]
  },
  {
   "cell_type": "code",
   "execution_count": 40,
   "metadata": {},
   "outputs": [],
   "source": [
    "# Predictions\n",
    "predictions = model.predict(vect.transform(X_test))"
   ]
  },
  {
   "cell_type": "code",
   "execution_count": 41,
   "metadata": {},
   "outputs": [],
   "source": [
    "from sklearn.metrics import roc_auc_score"
   ]
  },
  {
   "cell_type": "code",
   "execution_count": 42,
   "metadata": {},
   "outputs": [
    {
     "name": "stdout",
     "output_type": "stream",
     "text": [
      "AUC: 0.9206104942478054\n"
     ]
    }
   ],
   "source": [
    "print(\"AUC:\", roc_auc_score(y_test, predictions))"
   ]
  },
  {
   "cell_type": "code",
   "execution_count": 43,
   "metadata": {},
   "outputs": [],
   "source": [
    "feature_names = np.array(vect.get_feature_names())"
   ]
  },
  {
   "cell_type": "code",
   "execution_count": 44,
   "metadata": {},
   "outputs": [],
   "source": [
    "sorted_coef_index = model.coef_[0].argsort()"
   ]
  },
  {
   "cell_type": "code",
   "execution_count": 47,
   "metadata": {},
   "outputs": [
    {
     "name": "stdout",
     "output_type": "stream",
     "text": [
      "Smallest coef ['worst' 'garbage' 'junk' 'unusable' 'false' 'worthless' 'useless'\n",
      " 'crashing' 'disappointing' 'awful' 'scam' 'heats' 'wasted' 'empty' 'luck'\n",
      " 'dissatisfied' 'worse' 'poor' 'horrible' 'freezes' 'waste' 'crashed'\n",
      " 'terrible' 'disappointed' 'reported' 'faulty' 'nope' 'glitches' 'unable'\n",
      " 'shattered' 'mal' 'upset' 'died' 'dirty' 'dead' 'trash' 'crappy'\n",
      " 'cheated' 'sucks' 'motherboard']\n"
     ]
    }
   ],
   "source": [
    "print(\"Smallest coef\", feature_names[sorted_coef_index[:40]])"
   ]
  },
  {
   "cell_type": "code",
   "execution_count": 48,
   "metadata": {},
   "outputs": [
    {
     "name": "stdout",
     "output_type": "stream",
     "text": [
      "Largest coef ['excelent' 'excelente' 'exelente' 'loving' 'loves' 'perfecto' 'excellent'\n",
      " 'complaints' 'awesome' 'buen' 'bien' 'perfect' 'superb' 'love' 'amazing'\n",
      " 'lovely' 'exelent' 'fantastic' 'flawlessly' 'wonderful' 'likes' 'bueno'\n",
      " 'flagship' 'great' 'best' 'awsome' 'perfectly' 'glad' 'downside'\n",
      " 'worried' 'exellent' 'minor' 'comfortable' 'exactly' 'happier' 'terms'\n",
      " 'promptly' 'enjoying' 'noticeable' 'recomendado']\n"
     ]
    }
   ],
   "source": [
    "print(\"Largest coef\", feature_names[sorted_coef_index[:-41:-1]])"
   ]
  },
  {
   "cell_type": "code",
   "execution_count": null,
   "metadata": {},
   "outputs": [],
   "source": []
  }
 ],
 "metadata": {
  "kernelspec": {
   "display_name": "Python 3",
   "language": "python",
   "name": "python3"
  },
  "language_info": {
   "codemirror_mode": {
    "name": "ipython",
    "version": 3
   },
   "file_extension": ".py",
   "mimetype": "text/x-python",
   "name": "python",
   "nbconvert_exporter": "python",
   "pygments_lexer": "ipython3",
   "version": "3.8.8"
  }
 },
 "nbformat": 4,
 "nbformat_minor": 4
}
