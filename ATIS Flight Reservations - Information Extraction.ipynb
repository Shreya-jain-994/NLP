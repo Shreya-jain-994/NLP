{
 "cells": [
  {
   "cell_type": "markdown",
   "id": "3c8819de-d119-4209-beae-be2acd346a36",
   "metadata": {},
   "source": [
    "ATIS Flight Reservations - Information Extraction"
   ]
  },
  {
   "cell_type": "markdown",
   "id": "4c9943f7-e52c-4055-a739-381e0cfaff93",
   "metadata": {},
   "source": [
    "ATIS Flight Reservations - Information Extraction\n",
    " \n",
    "Table of Contents:\n",
    " \n",
    "1. Understanding the Data\n",
    "2. Information Extraction\n",
    "    . Pipeline for Information Extraction Systems\n",
    "    . Named Entity Recognition (NER)\n",
    "3. Models for Entity Recognition\n",
    "    . Rule-based models\n",
    "    · Regular Expression Based Rules (ex)\n",
    "    · Chunking\n",
    "    . Probabilistic models\n",
    "    · Unigram and Bigram models\n",
    "Naive Bayes Classifier\n",
    "Conditional Random Fields (CRFs)\n",
    "The ATIS (Airline Travel Information Systems) dataset consists of English language queries for booking (or requesting\n",
    "information about) flights in the US.\n",
    " \n",
    "Each word in a query (i.e. a request by a user) is labelled according to its entity-type, for e.g. in the query 'please show\n",
    "morning flights from chicago to new york', 'chicago' and 'new york are labelled as 'source' and 'destination' locations\n",
    "respectively while 'morning' is labelled as 'time-of-day' (the exact labelling scheme is a bit different, more on that later).\n",
    " \n",
    "Some example queries taken from the dataset are shown below:\n",
    " \n",
    "{\n",
    "'what flights leave atlanta at about DIGIT in the afternoon and arrive in san francisc\n",
    " \n",
    "'what is the abbreviation for canadian airlines international',\n",
    "\"i 'd like to know the earliest flight from boston to atlanta\",\n",
    "'show me the us air flights from atlanta to boston',\n",
    "'show me the cheapest round trips from dallas to baltimore',\n",
    "\"i 'd like to see all flights from denver to philadelphia\"\n",
    "}"
   ]
  },
  {
   "cell_type": "markdown",
   "id": "bfbbeeb4-4d4f-4ca3-95c7-28c805a6cfbf",
   "metadata": {},
   "source": [
    "**Objective**\n",
    "Our objective is to build an information extraction system which can extract entities relevant for booking flights (such as\n",
    "source and destination cities, time, date, budget constraints etc.) in a structured format from a given user-generated query.\n",
    "\n",
    "A structured format could be a dictionary, a JSON, etc. - basically anything that can be parsed and used for looking up\n",
    "relevant flights from a database.\n",
    "\n",
    "**Downloads**\n",
    "\n",
    "The dataset is divided into five folds, each fold having a training, validation and test set. You can download the dataset here:\n",
    "http://lisaweb.iro.umontreal.ca/transfert/lisa/users/mesnilgr/atis/"
   ]
  },
  {
   "cell_type": "markdown",
   "id": "cbd00a9a-2d2a-450c-af48-da60aff05635",
   "metadata": {},
   "source": [
    "**Understanding the Data**\n",
    "\n",
    "Let's understand the structure of the training data. The dataset is provided in five folds, each fold having a training,\n",
    "validation, test set and a dict (explained later). All folds are structurally identical, so understanding one fold is enough to\n",
    "understand the entire set."
   ]
  },
  {
   "cell_type": "code",
   "execution_count": null,
   "id": "9152ee7d-8f87-496e-9792-31a07545af28",
   "metadata": {},
   "outputs": [],
   "source": [
    "# import libaries\n",
    "import numpy as np\n",
    "import pandas as pd\n",
    "import nltk, pprint\n",
    "import matplotlib.pyplot as plt\n",
    "import random\n",
    "\n",
    "import gzip, os, pickle # gzip for reading the gz files, pickle to save/dump trained model\n",
    "import pickle as cPickle\n",
    "\n",
    "import sklearn\n",
    "from sklearn.model_selection import GridSearchCV\n",
    "from sklearn.model_selection import RandomizedSearchCV\n",
    "\n",
    "# supress warnings\n",
    "import warnings\n",
    "warnings.filterwarnings ('ignore')"
   ]
  },
  {
   "cell_type": "markdown",
   "id": "19ba4aae-9593-45fc-ad1a-7b083ab83bce",
   "metadata": {},
   "source": [
    "Let's now read the first fold of the dataset. The data is in .gz files, so we'll need the gzip library as well.\n"
   ]
  },
  {
   "cell_type": "code",
   "execution_count": null,
   "id": "2638bc4b-f014-4758-b820-23e89f48a065",
   "metadata": {},
   "outputs": [],
   "source": [
    "# read the first part of the dataset\n",
    "# each part (.gz file) contains train, validation and test sets, plus a dict\n",
    "\n",
    "filename = 'atis.fold0.pkl.gz'\n",
    "f = gzip.open(filename, 'rb')\n",
    "try:\n",
    "   train_set, valid_set, test_set, dicts = pickle.load(f, encoding='latin1')\n",
    "except:\n",
    "    train_set, valid_set, test_set, dicts = pickle.load(f)\n",
    "finally:\n",
    "  \n",
    "    \n",
    "f.close()"
   ]
  },
  {
   "cell_type": "code",
   "execution_count": null,
   "id": "5f852a36-06d0-40d9-af4e-4ebd4e246470",
   "metadata": {},
   "outputs": [],
   "source": [
    "# type  and size of the train set\n",
    "\n",
    "print(type(train_set))\n",
    "print()\n",
    "\n",
    "# type of the three element in the tuple\n",
    "\n",
    "print(type(train_set[0]), (type(train_set[1]), (type(train_set[2]))\n",
    "print(len(train_set[0]), (len(train_set[1]), (len(train_set[2]))"
   ]
  },
  {
   "cell_type": "markdown",
   "id": "ad7382f9-eec6-4fbf-b55b-64931a15097f",
   "metadata": {},
   "source": [
    "The training set is a tuple containing three lists of same lengths as shown above. Similarly, the validation and test sets\n",
    "contain three lists as well (shown below)."
   ]
  },
  {
   "cell_type": "code",
   "execution_count": null,
   "id": "0378b1d2-8a34-4fd1-b46d-43e87d146688",
   "metadata": {},
   "outputs": [],
   "source": [
    "# Validation set\n",
    "print(type(valid_set[0]), (type(valid_set[1]), (type(valid_set[2]))\n",
    "print(len(valid_set[0]), (len(valid_set[1]), (len(valid_set[2]))\n",
    "print()\n",
    "\n",
    "#test set\n",
    "print(type(test_set[0]), (type(test_set[1]), (type(test_set[2]))\n",
    "print(len(test_set[0]), (len(test_set[1]), (len(test_set[2]))"
   ]
  },
  {
   "cell_type": "markdown",
   "id": "7baa5913-217a-43d5-a8a4-762e281cf364",
   "metadata": {},
   "source": [
    "Thus, we have the train, validation and test sets each containing three lists of different lengths. Now, let's understand the\n",
    "data stored in the three lists."
   ]
  },
  {
   "cell_type": "code",
   "execution_count": null,
   "id": "cf2dfc11-53af-4f0c-946f-a168992c947b",
   "metadata": {},
   "outputs": [],
   "source": [
    "# first few elements in each list of the training set\n",
    "pprint.pprint(train_set[0][:3]) # encode with words like which , flight\n",
    "print('#'*50)\n",
    "pprint.pprint(train_set[1][:3]) # Ignore\n",
    "print('#'*50)\n",
    "pprint.pprint(train_set[2][:3])  # IOB Inside outside beginning text Label\n",
    "print('#'*50)"
   ]
  },
  {
   "cell_type": "raw",
   "id": "b3c49fef-d4fa-40b5-884e-47c4c931b627",
   "metadata": {},
   "source": [
    "The first list contains the actual queries encoded by integers such as 554, 194, 268 ... and so on. For e.g. the first three\n",
    "integers 554, 194, 268 are encoded values of the words 'what', 'flights', 'leave' etc.\n",
    "\n",
    "The second list is to be ignored.\n",
    "\n",
    "The third list contains the (encoded) label of each word (how to do these mappings is explained in detail below). Since the actual words are encoded by numbers, we have to decode them using the dicts provided. Let's first store the three lists into\n",
    "separate objects so we don't have to worry about indexing the lists.\n"
   ]
  },
  {
   "cell_type": "code",
   "execution_count": null,
   "id": "7fec1a5c-0255-45f7-a83d-d60e6934ed35",
   "metadata": {},
   "outputs": [],
   "source": [
    "#storing the three elements of the tuple in three objects\n",
    "# The '_' is a conventional variable in python used to store non-useful/dummy objects\n",
    "train_x, _, train_label = train_set\n",
    "val_x, _, val_label = valid_set\n",
    "test_x, _, test_label = test_set"
   ]
  },
  {
   "cell_type": "markdown",
   "id": "8d084722-ad36-4540-bcce-ec5e122f9a47",
   "metadata": {},
   "source": [
    "So now, for training, validation and test sets, we have the **encoded words and labels** stored in the lists (train_x, train_label),\n",
    "(val_x, val_label) and (test_x, test_label). The first list represents the actual words (encoded), and the other list contains their\n",
    "labels (again, encoded).\n",
    "\n",
    "Let's now understand the structure of the lists."
   ]
  },
  {
   "cell_type": "code",
   "execution_count": null,
   "id": "86db584c-82fb-4e38-b673-081c38f4947d",
   "metadata": {},
   "outputs": [],
   "source": [
    "# each list in the tuple is a numpy array (which us a complete sentence/query)\n",
    "# printing first list in the tuple's first element\n",
    "# each element represents a word of the query\n",
    "# this translates to 'what flights leave atlanta\n",
    "train_x[0]"
   ]
  },
  {
   "cell_type": "code",
   "execution_count": null,
   "id": "3e44e45b-c510-4a63-bea0-10679219680f",
   "metadata": {},
   "outputs": [],
   "source": [
    "# labels are stored in the third list train _label\n",
    "train_label [0]"
   ]
  },
  {
   "cell_type": "markdown",
   "id": "af95323d-f167-474c-9b4d-d883fb761a09",
   "metadata": {},
   "source": [
    "To map the integers to words, we need to use the dictionaries provided. The dicts <code>words2idx</code> and <code>labels2idx </code> map the numeric ids to the actual words and labels respectively."
   ]
  },
  {
   "cell_type": "code",
   "execution_count": null,
   "id": "c545ac4e-cbfa-4598-b9dc-5047baf7b97e",
   "metadata": {},
   "outputs": [],
   "source": [
    "# dict to map numbers to words/labels\n",
    "print(type(dicts))\n",
    "print(dicts.keys())"
   ]
  },
  {
   "cell_type": "code",
   "execution_count": null,
   "id": "0a0e3b16-76ef-4558-9f85-87ade135db64",
   "metadata": {},
   "outputs": [],
   "source": [
    "# each key:value pair is itself a dict\n",
    "print(type(dicts['lbels2idx']))\n",
    "print(type(dicts['tabels2idx']))\n",
    "print(type(dicts['words2idx']))"
   ]
  },
  {
   "cell_type": "code",
   "execution_count": null,
   "id": "ca30f779-c46a-4a1b-9f3d-2032adda2447",
   "metadata": {},
   "outputs": [],
   "source": [
    "# Storing labels and words in separate variables\n",
    "# we'll need only two of these dicts - words and labels\n",
    "words =dicts['words2idx']\n",
    "labels =dicts['labels2idx']\n",
    "tabels=dicts['tables2idx']"
   ]
  },
  {
   "cell_type": "code",
   "execution_count": null,
   "id": "42af08e0-c4a2-4e01-8e92-2c29faee7522",
   "metadata": {},
   "outputs": [],
   "source": [
    "# each key of 'words' is a word, each value its index\n",
    "#printing some random key:value pairs of 'words'\n",
    "random.sample(words.items(), 10)"
   ]
  },
  {
   "cell_type": "code",
   "execution_count": null,
   "id": "0fecc1fd-91ec-4348-97fb-3c95cacf71fe",
   "metadata": {},
   "outputs": [],
   "source": [
    "# Now we map numeric value v in as sentence with the k, v in the dict\n",
    "#train_x contains the list of training queries; train_x[0] is the first query\n",
    "#this is the first query\n",
    "[k for val in train_x[0] for k,v in words.items() if v==val]"
   ]
  },
  {
   "cell_type": "code",
   "execution_count": null,
   "id": "72d31518-7b03-49d9-9ffe-96ceec492885",
   "metadata": {},
   "outputs": [],
   "source": [
    "# let's look at the first few queries\n",
    "sents=[]\n",
    "for i in range(30):\n",
    "    sents.append(\" \".join ([k for val in train_x[0] for k,v in words.items() if v==val]))\n",
    "sents"
   ]
  },
  {
   "cell_type": "markdown",
   "id": "0fc32028-0f26-4d41-ae73-19e258f7d7e3",
   "metadata": {},
   "source": [
    "Similarly we map the encoded values of each words's label using the <code> labels </code> dict."
   ]
  },
  {
   "cell_type": "code",
   "execution_count": null,
   "id": "e5f06bdd-69b9-4cd6-ae85-dcc5470acbab",
   "metadata": {},
   "outputs": [],
   "source": [
    "# Labels dict contains IOB(Inside-outside-beginning) labelled entities\n",
    "#printing some randoms k:v pairs\n",
    "random.sample(labels.items(),25)"
   ]
  },
  {
   "cell_type": "markdown",
   "id": "7db29c41-a1ab-40ca-a65d-75faa9d65420",
   "metadata": {},
   "source": [
    "### Reversing The dictionaries\n",
    "\n",
    "since the dict <code> words </code> and <code> labels </code> are key:value pairs of index: word/labels, let's reverse the dicts so that we don't have to do a reverse lookup everytime"
   ]
  },
  {
   "cell_type": "code",
   "execution_count": null,
   "id": "433f40ef-e6cb-4ea0-b310-9b08a4ee6487",
   "metadata": {},
   "outputs": [],
   "source": [
    "# converting words_to_id to id_to_words\n",
    "# and labels_to_id to id_to_labels\n",
    "id_to_words = {words[k]:k for k in words}\n",
    "id_to_labels = {labels[k]:k for k in labels}"
   ]
  },
  {
   "cell_type": "markdown",
   "id": "f3c7df22-7915-485d-b958-ff1f5d485bc6",
   "metadata": {},
   "source": [
    "Now we can print the words and corresponding labels simply by looking up the value of a numeric index of each word. Let's write a function which takes in an index and returns the corresponding query with its labels."
   ]
  },
  {
   "cell_type": "code",
   "execution_count": null,
   "id": "8e2ff449-38ec-47ae-8244-3e4c612f62f3",
   "metadata": {},
   "outputs": [],
   "source": [
    "# takes in an integer index corresponding to a query\n",
    "# and returns a list of (word, label) pairs\n",
    "def print_query(index):\n",
    "    w = [id_to_words[id] for id in train_x[index]]\n",
    "    1 =[id_to_labels[id] for id in train_label[index] ]\n",
    "    return list(zip(w, 1))"
   ]
  },
  {
   "cell_type": "code",
   "execution_count": null,
   "id": "8384d0ce-4b6f-43b0-a20a-126cadbac2c2",
   "metadata": {},
   "outputs": [],
   "source": [
    "# sample query\n",
    "print_query(3900)"
   ]
  },
  {
   "cell_type": "markdown",
   "id": "7acdf2ce-3b60-424a-bdca-d3751e1d6d84",
   "metadata": {},
   "source": [
    "Also, some queries specify stopver cities, such as this"
   ]
  },
  {
   "cell_type": "code",
   "execution_count": null,
   "id": "11d77883-b6c8-4261-b2cb-ca499e0e0696",
   "metadata": {},
   "outputs": [],
   "source": [
    "#example query: stopover city\n",
    "print_query(3443)"
   ]
  },
  {
   "cell_type": "markdown",
   "id": "1e1413cb-341f-443c-8371-ae9befb6c733",
   "metadata": {},
   "source": [
    "### Information Extraction\n",
    "Information Extraction (IE) refers to the task of extracting structured information from unstructured text data. In this case,we want to extract all pieces of information from a query which are useful in making a flight reservation, such as source and destination cities, date of travel, price range etc.\n",
    "    \n",
    "Other examples of IE tasks are extracting information about stock market announcements from financial news (which could be useful for predicting stock prices etc.), extracting structured information from large corpora of documents such as\n",
    "encyclopedias, government documents etc. On wikipedia, for e.g., some structured information is shown on the right side of the pages:"
   ]
  },
  {
   "cell_type": "markdown",
   "id": "0de01a71-efbe-4670-b30a-b20c8ea7bb7e",
   "metadata": {},
   "source": [
    "Most IE tasks start with the task of Named Entity Recognition (NER) - identifying mentions of entities in the text. Loosely\n",
    "speaking, entities refer to names of people, organizations (e.g. Air India, United Airlines), places/cities (Mumbai, Chicago),\n",
    "dates and timepoints (May, Wednesday, morning flight), numbers of specific types (e.g. money - 5000 INR) etc.\n",
    "\n",
    "The general process of information extraction is described below."
   ]
  },
  {
   "cell_type": "markdown",
   "id": "76488cd7-3ebf-484f-b117-99a34e6dc3ab",
   "metadata": {},
   "source": [
    "### Information Extraction Pipeline\n",
    "Most IE pipelines start with the usual text preprocessing steps - sentence segmentation, word tokenisation and POS tagging. After preprocessing, the usual tasks are named entity recognition, and optionally relation recognition.\n",
    "\n",
    "Note that this is a generic pipeline, and you may make modifications according to the nature of your application. For example, you may add a 'spell check/correction layer' as the first preprocessing step if you expect some input data to have\n",
    "spelling errors.\n",
    "\n",
    "A generic IE pipeline schema, taken from the official NLTK book, is show below"
   ]
  },
  {
   "attachments": {
    "04c3c2e7-d720-4138-acfb-0d0ee34197c2.png": {
     "image/png": "[encoded data removed]"
    }
   },
   "cell_type": "markdown",
   "id": "59051694-dc57-4c33-9e17-b9c5a44816c6",
   "metadata": {},
   "source": [
    "![image.png](attachment:04c3c2e7-d720-4138-acfb-0d0ee34197c2.png)"
   ]
  },
  {
   "cell_type": "markdown",
   "id": "3575d727-4ea0-48a9-b57b-18cff26ca778",
   "metadata": {},
   "source": [
    "### Preprocessing\n",
    "The usual preprocessing steps are - if the raw input data is in the form of paragraphs, it is converted into sentences using a **sentence segmenter**, then broken down into tokens using **tokenisation**, and finally each token is **POS tagged**.\n",
    "\n",
    "#### Named Entity Recognition (NER)\n",
    "The labels corresponding to each word/token, as shown above, are of three types - I, O and B, which stand for inside, out\n",
    "and beginning (called **IOB tags**). This is a common way of labelling text data meant for NER tasks. The task of information\n",
    "extraction and named-entity recognition is explained in detail below. First, let's understand the task of NER and IOB labelling\n",
    "in detail.\n",
    "\n",
    "Some example IOB tagged words are shown below:\n",
    "\n"
   ]
  },
  {
   "cell_type": "code",
   "execution_count": null,
   "id": "d269d204-9ac3-46a2-acc2-a4d44c938073",
   "metadata": {},
   "outputs": [],
   "source": [
    "# run multiple times to see samples\n",
    "# randomly chosen sample IOB-tagged queries from training data\n",
    "i=random.randrange(len(train_x))\n",
    "print_query(i)"
   ]
  },
  {
   "cell_type": "markdown",
   "id": "7431e95b-9a06-46b2-a683-7f89c654e5de",
   "metadata": {},
   "source": [
    "IN the query name above, there are two named entities (cities)- san francisco and denver.\n",
    "\n",
    "since san francico comprises of two words, the first one is tagged B and the second words tagged as /- On the other hand dever is only one word, so there's no /- tag. All the words are not entities are thus marked O (outside any entity)\n",
    "\n",
    "\n",
    "The **NER task** is to ** Predict the IOB labels ** of each words."
   ]
  },
  {
   "cell_type": "markdown",
   "id": "fbebd476-06fb-45a5-a33e-8386d07bdc60",
   "metadata": {},
   "source": [
    "### NER as a sequence-Labelling Task\n",
    "\n",
    "The task of **training an NER system**, i.e. assigning an IOB label to each word, is a **sequence labelling task** similar to POS tagging. For sequence labelling, one can try rule-based models such as writing **regular-expression based rules** to extract\n",
    "entities, **chunking** patterns of POS tags into an 'entity chunk' etc. (we'll try some of these below)\n",
    "\n",
    "One the other hand, one can use **probabilistic sequence labelling models** such as **HMMs, the Naive Bayes** classifier (classifying each word into one label class), **Conditional Random Fields (CRFs)** etc.\n",
    "\n",
    "Once the IOB tags of each word are predicted, we can **evaluate the model** using the usual metrics for multi-class classification models (num_classes = number of IOB tags)."
   ]
  },
  {
   "cell_type": "markdown",
   "id": "070fde68-24e8-4824-b141-ffa6e32bd9bc",
   "metadata": {},
   "source": [
    "### Model for Entity Recognition\n",
    "In the following sections, we'll build a variety of models for entity recognition, i.e. to predict the sequence of IOB tag of\n",
    "words. We'll try the two broad approaches - **rule-based models** and **probabilistic models**.\n",
    "\n",
    "Before that, we need to do some basic preprocessing of the data.\n",
    "\n",
    "### Part of Speech Tagging\n",
    "The usual preprocessing steps are sentence segmentation, tokenisation and POS tagging, but since in this case the raw data is already split into sentences (queries) and words, we only need to do POS tagging.\n",
    "\n",
    "The function below takes in a list of (encoded) sentences, uses the dict <code> id_to_words </code> to decode the numeric to the\n",
    "corresponding word, and returns the POS tagged list of sentences.\n"
   ]
  },
  {
   "cell_type": "code",
   "execution_count": null,
   "id": "56ba9a42-14a1-40a0-aedb-06b834fd3a0b",
   "metadata": {},
   "outputs": [],
   "source": [
    "# POS tagging sentences\n",
    "# takes in a list of sentences and returns a list of POS-tagged sentences\n",
    "# in the form(word,tag)\n",
    "\n",
    "def pos_tag(sent_list):\n",
    "    pos_tag=[]\n",
    "    tagged_words=nltk.pos_tag([id_to_words[val]for val in sent])\n",
    "    pos_tag.append(tahhed_words)\n",
    "    return pos_tags"
   ]
  },
  {
   "cell_type": "code",
   "execution_count": null,
   "id": "5f957ef8-16b4-4a32-b1f2-21ba3b66e3c0",
   "metadata": {},
   "outputs": [],
   "source": [
    "# Pos Tagging train, validation and test data\n",
    "train_pos =pos_tags(train_x)\n",
    "valid_pos =pos_tags(val_x)\n",
    "test_pos =pos_tags(test_x)"
   ]
  },
  {
   "cell_type": "code",
   "execution_count": null,
   "id": "bcd7df27-d07c-463d-be48-6d89a13e084b",
   "metadata": {},
   "outputs": [],
   "source": [
    "# looking at tags of some randomly chosen queries\n",
    "#notice that most cities after \"To\" are incorrectly tagged as VB\n",
    "i = random.randrange(len(train_pos)\n",
    "train_pos[i]                   \n",
    "                                      "
   ]
  },
  {
   "cell_type": "markdown",
   "id": "c8e0c632-56d6-4e6f-94c7-21fada54ef02",
   "metadata": {},
   "source": [
    "## Problems with the NLTK Tagger\n",
    "\n",
    "Note that almost all city/airport names that come after 'to/TO' are tagges as verbs 'VB', which is clearly incorrect. This is because NLTK's built-in tagger is trained using the penntreebank dataset, and it takes 'to/TO' as a strong signal for a 'VB'.\n",
    "\n",
    "In general, the performance of a POS tagger depends a lot on the data used to train it. There are alternatives to it - one, you can try using an alternative tagger such as the Stanford tagger, Spacy etc. (though note that getting them up and running in\n",
    "python may take a bit of time in installing dependencies/debugging etc.).\n",
    "\n",
    "The other alternative (recommended as a quick fix) is to use a **backup tagger**(Backoff option will allow you to change multiple tagger together if one tagger doesn't know how to tag a word it can backoff to another words) within NLTK, i.e. manually specify a unigram/bigram tagger to be used, and backed up by the standard NLTK tagger. "
   ]
  },
  {
   "cell_type": "markdown",
   "id": "80b28910-2d6a-49c2-afe0-99a6a20ccdd9",
   "metadata": {},
   "source": [
    "Creating 3-tuple of <code> **(word, pos, IOS_labels)** </code>\n",
    "To train a model, we need the entity labels of each word along with the POS tags, for e.g. in this format\n",
    "                            ('show', 'VB', '0'),\n",
    "                            ('me', 'PRP', 'O'),\n",
    "                            ('the', 'DT', 'O'),\n",
    "                            ('cheapest', 'JJS', 'B-cost_relative'),\n",
    "                            ('round', 'NN', 'B-round_trip'),\n",
    "                            ('trips', 'NNS', 'I-round_trip'),\n",
    "                            ('from', 'IN', 'O'),\n",
    "                            ('dallas', 'NN', 'B-fromloc.city_name'),\n",
    "                            ('to', 'TO', '0'),\n",
    "                            ('baltimore', 'VB', 'B-toloc.city_name')\n",
    "\n",
    "Let's convert the training validation and test sentences to this form. Since we have already done POS tagging of the queries, we'll write a function which takes queries in the form(word_pos_tag) and labels as input, and return the list of sentence in the form (word, pos_tag, iob_labels).\n",
    "\n",
    "\n"
   ]
  },
  {
   "cell_type": "code",
   "execution_count": null,
   "id": "474fd16e-64cf-4d36-9388-62f458dbb7b4",
   "metadata": {},
   "outputs": [],
   "source": [
    "# Function to create (word, pos_tag, iob_lables) tuple for a given datatset\n",
    "\n",
    "def create_word_pos_label(pos_tagged_data, labels):\n",
    "    iob_lables=[]                  # initialize the list of 3-tuples to be returned\n",
    "\n",
    "    for sent in list(zip(pos_tagged_data, labels)):\n",
    "        pos=sent[0]\n",
    "        labels=sent[1]\n",
    "        zipped_list=list(zip(pos, labels))   # [(word, pos), label]\n",
    "\n",
    "\n",
    "      #create (word, pos, label) tuple from zipped list\n",
    "        tuple_3 = [(word_pos_tuple[0], word_pos_tuple[1], id_to_labels[labels])\n",
    "                  for word_pos_tuple, label in zipped_list]\n",
    "        iob_labels.append(tuple_3)\n",
    "        return iob_labels"
   ]
  },
  {
   "cell_type": "code",
   "execution_count": null,
   "id": "39a8b125-b417-4adf-a83d-6173f14ed000",
   "metadata": {},
   "outputs": [],
   "source": [
    "# printing some sample queries in the form (word, pos, label)\n",
    "train_labels =  create_word_pos_label(train_pos, train_label)\n",
    "train_label[4:6]"
   ]
  },
  {
   "cell_type": "code",
   "execution_count": null,
   "id": "89f4117e-a891-4263-81c7-1d115764ab7c",
   "metadata": {},
   "outputs": [],
   "source": [
    "# storing validation and test data as well as (word, pos, label)\n",
    "valid_labels = create_word_pos_label(valid_pos, val_label)\n",
    "test_labels = create_word_pos_label(test_pos, test_label)"
   ]
  },
  {
   "cell_type": "markdown",
   "id": "ceeacc4c-0c28-4739-adaa-a53bef07a004",
   "metadata": {},
   "source": [
    "Now that we have converted the queries in the form (word, pos, label), we can convert them into a tree format and observe\n",
    "the actual entities more clearly (rather than IOB labels).\n",
    "\n",
    "In general, IOB tagged sentences are represented in either of the two common formats - 1. The <code>(word, pos, label)</code> or\n",
    "the tagged list format or 2. The tree format.\n",
    "\n",
    "As we will see later, some built-in models/sequence taggers in NLTK need the data in the tree format.\n",
    "\n",
    "#### Converting List to Tree Format\n",
    "Let's now convert the sentences into a tree format, which is needed by NLTK to train taggers. In NLTK, there are two main\n",
    "methods to convert between the two formats (the list of tags and tree) - <code> conlltags2tree</code> and <code>tree2conlltags.</code>"
   ]
  },
  {
   "cell_type": "code",
   "execution_count": null,
   "id": "80b47e02-16e7-4136-b666-1d4417ebc2aa",
   "metadata": {},
   "outputs": [],
   "source": [
    "from nltk.corpus import conll2000\n",
    "from nltk import conlltags2tree, tree2conlltags\n",
    "\n",
    "# print a sample tree in tuple format:\n",
    "train_labels[3]"
   ]
  },
  {
   "cell_type": "code",
   "execution_count": null,
   "id": "77ec98fd-61fe-4a5d-b24e-9bdcdd3d475a",
   "metadata": {},
   "outputs": [],
   "source": [
    "# converting the sample sentence above to tree format\n",
    "tree=conlltags2tree(train_labels[3])\n",
    "print(tree)"
   ]
  },
  {
   "cell_type": "markdown",
   "id": "b55fccf6-0dcc-4133-b7a6-cec80e67ba34",
   "metadata": {},
   "source": [
    "The tree above shows three entities in the query - <code>flight_mod earliest</code> (earliest), <code>fromloc.city_name</code> (boston),\n",
    "<code>toloc.city_name</code> (atlanta).\n",
    "\n",
    "Let's now convert all training sentences to trees."
   ]
  },
  {
   "cell_type": "code",
   "execution_count": null,
   "id": "bcfd5e5f-1356-4c91-b6f3-6bbe9d6fa291",
   "metadata": {},
   "outputs": [],
   "source": [
    "# converting training, validation and test datasets to tree format\n",
    "train_trees = [conlltags2tree(sent) for sent in train_labels]\n",
    "valid_trees = [conlltags2tree(sent) for sent in valid_labels]\n",
    "test_trees = [conlltags2tree(sent) for sent in test_labels]"
   ]
  },
  {
   "cell_type": "code",
   "execution_count": null,
   "id": "50d4b412-671d-4c1a-9776-685064e96eea",
   "metadata": {},
   "outputs": [],
   "source": [
    "# print some sample training trees\n",
    "i=random.randrange(len(train_trees))\n",
    "print(train_trees[i])"
   ]
  },
  {
   "cell_type": "markdown",
   "id": "b9cba6e0-9ab3-4d7b-8aa6-cff1bdbe464c",
   "metadata": {},
   "source": [
    "Now that we have the queries in free format, we can build some models to extract entities"
   ]
  },
  {
   "cell_type": "markdown",
   "id": "5b093880-7d56-487f-8f12-62a3b13dc1f4",
   "metadata": {},
   "source": [
    "### Rule-Based Models for Entity Recognition\n",
    "The most basic rule-based system can be written using regular expressions. The idea is to manually identify patterns which indicate occurence of entities we are interested in, such as source and destination cities, mentions of dates and time, names of organisations (in this case airlines such as united airlines, american airlines etc.) and write regular expressions to match them.\n",
    "\n",
    "### Chunking\n",
    "**Chunking is a way to identify meaningful sequences of tokens called chunks in a sentence**. It is commonly used to identify\n",
    "sequences of nouns, verbs etc. For example, in the example sentence taken from the NLTK book: #https://www.nltk.org/book/ch07.html\n",
    "\n",
    "S = \"We saw the yellow dog\"\n",
    "\n",
    "there are two noun phrase chunks as shown below. Each outer box represents a chunk."
   ]
  },
  {
   "attachments": {
    "6f2d7b76-be0d-470e-a297-644952cddee8.png": {
     "image/png": "[encoded data removed]"
    }
   },
   "cell_type": "markdown",
   "id": "971aafe7-3bd1-4ea0-8634-f1f0a8f072eb",
   "metadata": {},
   "source": [
    "![image.png](attachment:6f2d7b76-be0d-470e-a297-644952cddee8.png)"
   ]
  },
  {
   "cell_type": "markdown",
   "id": "958d976c-32dd-4f68-8f44-686f76d4fe0d",
   "metadata": {},
   "source": [
    "The corresponding **IOB representation** of the same is as follows:"
   ]
  },
  {
   "attachments": {
    "683da748-63ce-4e93-8ba9-c3f28c821ba3.png": {
     "image/png": "[encoded data removed]"
    }
   },
   "cell_type": "markdown",
   "id": "134dddb7-6e02-40a5-b453-124899f0297c",
   "metadata": {},
   "source": [
    "![image.png](attachment:683da748-63ce-4e93-8ba9-c3f28c821ba3.png)\n",
    "\n",
    "simlilarly, in our dataset, the following sentence contains chunks such as fromloc.city_name (san francisco) class_type (first class), depart_time.time(DIGITDIGIT noon) etc"
   ]
  },
  {
   "cell_type": "code",
   "execution_count": null,
   "id": "08960c8c-ea69-4824-bcd8-2628be5ca375",
   "metadata": {},
   "outputs": [],
   "source": [
    "# sample chunks\n",
    "print(train_tree[3468])"
   ]
  },
  {
   "cell_type": "markdown",
   "id": "c5e116fb-8d1f-44a9-a6c0-5bfb18743973",
   "metadata": {},
   "source": [
    "There are various techniques for building chunkers, such as regex based, unigram and bigram chunkers etc."
   ]
  },
  {
   "cell_type": "markdown",
   "id": "987272f7-f430-4791-93ef-13a3edb6d005",
   "metadata": {},
   "source": [
    "#### Regular Expressions Based Chunkers"
   ]
  },
  {
   "cell_type": "markdown",
   "id": "3986ff27-99df-448e-aee7-131bd2ea1a29",
   "metadata": {},
   "source": [
    "Regex based chunkers define what is called a **chunk grammar**. A **chunk grammar is a pattern of POS tags** which are\n",
    "likely to form a particular chunk (and thus POS tagging is a necessary preprocessing step for such chunkers).\n",
    "\n",
    "The example from the NLTK book defined a simple garmmar to identify noun phrase chunks:\n"
   ]
  },
  {
   "cell_type": "code",
   "execution_count": null,
   "id": "8d15c79b-cc98-4ccf-8bf7-ac6d9cf47a43",
   "metadata": {},
   "outputs": [],
   "source": [
    "# chunking example sentence\n",
    "sentence = [(\"the\", \"DT\"), (\"little\", \"JJ\"), (\"yellow\", \"JJ\"),\n",
    "(\"dog\", \"NN\"), (\"barked\", \"VBD\"), (\"at\", \"IN\"), (\"the\", \"DT\"), (\"cat\", \"NN\") ]\n"
   ]
  },
  {
   "cell_type": "markdown",
   "id": "826e5d7b-9cfd-4a27-9078-72466e858447",
   "metadata": {},
   "source": [
    "Now, we **define a chunk grammar** to identify noun phrase chunks as follows: A noun phrase chunk occurs when an\n",
    "optional determiner (DT) is followed by any number of adjectives (JJ) and then a noun (NN)."
   ]
  },
  {
   "cell_type": "code",
   "execution_count": null,
   "id": "82ca2bc6-8f85-4189-ac13-dd63fdfab455",
   "metadata": {},
   "outputs": [],
   "source": [
    "# define chunk grammar to identify noun phrase chunks\n",
    "# an optional determiner (DT), followed by any number of adjectives (JJ)\n",
    "# and then a noum (NN)\n",
    "grammar = \"NP_chunk: {<DT> ?< JJ> *< NN>}\"\n"
   ]
  },
  {
   "cell_type": "markdown",
   "id": "d58df467-7f8f-4178-9df2-9db8b4666ed5",
   "metadata": {},
   "source": [
    "We now use the <code> **nltk.RegexpParser** </code>  to parse the given sentence. The output will be a tree which identifies the NP\n",
    "chunks."
   ]
  },
  {
   "cell_type": "code",
   "execution_count": null,
   "id": "5d2bac1f-0d30-41f2-bbe0-45be8fe8f580",
   "metadata": {},
   "outputs": [],
   "source": [
    "# parse the sentence\n",
    "cp = nltk.RegexpParser(grammar)\n",
    "result = cp.parse(sentence)\n",
    "print(result)"
   ]
  },
  {
   "cell_type": "markdown",
   "id": "b93c9e97-6dd8-4c9c-b76d-63521f664d9d",
   "metadata": {},
   "source": [
    "The first NP chunks is \"the little yellow dog\" and second one is that \"the cat\". One can also print the list representation of this tree as follows:"
   ]
  },
  {
   "cell_type": "code",
   "execution_count": null,
   "id": "097fc11f-5898-43c3-87d7-d6901553faf4",
   "metadata": {},
   "outputs": [],
   "source": [
    "# list form of the tree\n",
    "tree2conlltags(result)"
   ]
  },
  {
   "cell_type": "markdown",
   "id": "a3029838-1e0c-42e7-a625-3a26e7e626a6",
   "metadata": {},
   "source": [
    "Similarly, we can write rules to identify entities in the airlines dataset. Before building any useful chunkers, let's first make a\n",
    "**baseline chunker** - one which assigns the label 'O' to every word and see its evaluation metrics. We can then compare the\n",
    "eventual models with this one.\n"
   ]
  },
  {
   "cell_type": "code",
   "execution_count": null,
   "id": "31e83067-dd6a-4634-8464-f4660cbb4c1d",
   "metadata": {},
   "outputs": [],
   "source": [
    "# baseline (dummy chunker)\n",
    "# assigns 'O' to each word\n",
    "\n",
    "grammar = !!\n",
    "\n",
    "# initialise cp\n",
    "cp = nltk.RegexpParser(grammar)\n",
    "\n",
    "# evaluate results against actual IOB labels\n",
    "result = cp.evaluate(train_trees)\n",
    "print(result)"
   ]
  },
  {
   "cell_type": "markdown",
   "id": "60959faf-7fcd-4942-92c4-54de47cbaa97",
   "metadata": {},
   "source": [
    "An accuracy of 63.8% shows that about 63% words have the tag 'O', i.e. they do not fall in any chunk/entity. The other metrics are 0 since we did not predict any chunks at all.\n",
    "Let's now look at a few sentences and try to identify patterns for the chunks <code>fromloc.city_name </code> and <code> toloc.city_name </code> (since these are the most common entities)."
   ]
  },
  {
   "cell_type": "code",
   "execution_count": null,
   "id": "0dd0c97b-465b-44d2-bd55-4b7eb35859f5",
   "metadata": {},
   "outputs": [],
   "source": [
    "# sample queries\n",
    "print(train_trees[random.randrange(len(train_trees))])"
   ]
  },
  {
   "cell_type": "markdown",
   "id": "ea33e5ac-6c6e-4433-a28a-51a1c1a07cb9",
   "metadata": {},
   "source": [
    "It is easy to see that a common pattern is from city_1 to city_2. The POS tag of from is 'IN', to is 'TO'. However, there's an interesting flaw in the tagger - most cities (city_2) after TO are tagged as as verb 'VB' (the nltk tagger uses 'TO' as a string signal for a verb\n",
    "\n",
    "\n",
    "Nevertheless the pattern <code> from/IN city_1/JJ city_1/NN to/TO city_2/VB city_2/NN </code> (you can try looking at multiple sentences and verify"
   ]
  },
  {
   "cell_type": "markdown",
   "id": "e15c2f44-4a74-48e4-9e13-f26bcda90883",
   "metadata": {},
   "source": [
    "Let's define the grammar to identify the two types of chunks - fromloc.city_name and toloc.city_name . The\n",
    "syntax is to simply write two regexes within the grammar, one for each, one after the other."
   ]
  },
  {
   "cell_type": "code",
   "execution_count": null,
   "id": "b6e0680c-3bb0-481f-bac4-ce7ecd43c354",
   "metadata": {},
   "outputs": [],
   "source": [
    "# grammar for source and destination city chunks\n",
    "grammar = ''!\n",
    "fromloc.city_name: {<JJ> ?< NN>}\n",
    "toloc.city_name: {<VB><NN>?}\n",
    "...\n",
    "\n",
    "cp = nltk.RegexpParser (grammar)\n",
    "result = cp.evaluate(train_trees)\n",
    "print(result)"
   ]
  },
  {
   "cell_type": "markdown",
   "id": "1afd97bd-55e3-4983-835a-1163a92c7dd4",
   "metadata": {},
   "source": [
    "The results are although better than the baseline model, they are still quite unimpressive. Notice that now precision, recall\n",
    "and f-score are non-zero, indicating that the chunker is able to identify at least some chunks correctly (in this case\n",
    " <code> fromloc.city_name and toloc.city_name ) </code> .\n",
    "\n",
    "We can add more regex patterns for other chunk types as well.\n",
    "\n",
    "We can see that in this dataset, queries are quite complex (large variety of labels, sentence structures etc.) and thus it is\n",
    "extremely hard write hand-written rules to extract useful entities.\n",
    "\n",
    "Thus, we need to train probabilistic models such as CRFs, HMMs etc. to tag each word with its corresponding entity label.\n"
   ]
  },
  {
   "cell_type": "markdown",
   "id": "41f7d8a2-ae5b-4b47-9a2a-b95dfb9c9279",
   "metadata": {},
   "source": [
    "### Probabilistic Models for Entity Recognition\n",
    "Let's experiment with a few different models for labelling words with named entities.\n",
    "## unigram chunker\n",
    "Let's now try a unigram chunker. A **unigram chunker** assigns the IOB label that is most likely for each POS tag.\n",
    "\n",
    "The following code defines a class <code>UnigramChunker </code> which (on initialisation) first converts the tree form of a sentence to\n",
    "the list form (word, pos, label), extracts the (pos, label) pairs and computes the unigram probabilities <code>P(label | pos)</code> for\n",
    "each POS tag. It then simply assigns the label that is most likely for the POS tag.\n",
    "\n",
    "The <code>parse () </code>method of the class takes a sentence in the form (word, pos) as the input, extracts only the pos tag from it,\n",
    "and uses the unigram tagger to assign the IOB label to each word. It then returns the sentence after converting it to a tree\n",
    "format.\n",
    "\n",
    "Note that the unigram tagger, like the previous regex-based chunkers, does not make use of the word itself but only the\n",
    "word's POS tag."
   ]
  },
  {
   "cell_type": "code",
   "execution_count": null,
   "id": "f9734b6c-b4aa-499e-a9b7-243266503ca9",
   "metadata": {},
   "outputs": [],
   "source": [
    "#UNIGRAM CHUNKER\n",
    "\n",
    "from nltk import ChunkParser\n",
    "\n",
    "class UnigramChunker(ChunkParser):\n",
    "    def __init__(self, train_sents):\n",
    "        # convert train sents from tree format to tags\n",
    "        train_data =[[(t,c) for w,t,c in nltk.chunk.tree2conlltags(sent)] for sent in train_sents]\n",
    "        self.tagger-nltk.UnigramTagger(train_data)\n",
    "\n",
    "\n",
    "     def parse(self, sentence):\n",
    "         pos_tags =[pos for (word, pos) in sentence]\n",
    "         tagged_pos = self.tagger.tag(pos_tags)\n",
    "         chunktags =[chunktag for (pos, chunktag) in tagged_pos_tags]\n",
    "\n",
    "\n",
    "        #convert to tree again\n",
    "         conlltags=[(word, pos, chunktag) for ((word, pos), chunktag) in zip(sentence, chunktag]\n",
    "         return nltk.chunk.conlltags2tree(conlltags)"
   ]
  },
  {
   "cell_type": "code",
   "execution_count": null,
   "id": "0416c2e0-85a0-478e-ae60-dfa4c17a3b6b",
   "metadata": {},
   "outputs": [],
   "source": [
    "# unigram chunker\n",
    "unigram_chunker = UnigramChunker(train_trees)\n",
    "print(unigram_chunker.evaluate(valid_trees))"
   ]
  },
  {
   "cell_type": "markdown",
   "id": "c8e1540f-e774-454a-bc55-a17bca93b508",
   "metadata": {},
   "source": [
    "The accuracy, precision and recall have slightly improved compared to the previous regex-based parser.\n",
    "Let's also look at what the unigram parser has learnt.\n"
   ]
  },
  {
   "cell_type": "code",
   "execution_count": null,
   "id": "de289ed7-48ce-41db-8053-e563adb77c33",
   "metadata": {},
   "outputs": [],
   "source": [
    "# printing the most likely IOB tags for each POS tag\n",
    "\n",
    "# extract the list of pos tags\n",
    "postags = sorted(set([pos for sent in train_trees for (word, pos) in sent.leaves()]))\n",
    "\n",
    "# for each tag, assign the most likely IOB label\n",
    "print(unigram_chunker.tagger.tag(postags))"
   ]
  },
  {
   "cell_type": "markdown",
   "id": "a6175e96-5bd1-4fc1-a016-9b654fe53e29",
   "metadata": {},
   "source": [
    "The unigram tagger has learnt that most pos tags are indeed an 'O', i.e. don't form an entity. Some interesting patterns it has\n",
    "learnt are:\n",
    "\n",
    "· JJR, JJS (relative adjectives), are most likely B-cost_relative (e.g. cheapest, cheaper)\n",
    ". NNP is most likely to be B-depart_time.time"
   ]
  },
  {
   "cell_type": "markdown",
   "id": "5627f583-6459-42e7-8df2-f611be4cc7cf",
   "metadata": {},
   "source": [
    "## Bigram Chunker\n",
    "Let's try a bigram chunker as well - we just need to change the <code> UnigramTagger to BigramTagger .</code> This works exactly\n",
    "like the unigram chunker, the only difference being that now the probability of a pos tag having a label is computed using the\n",
    "current and the previous POS tags, i.e. <code> P(label | pos, prev_pos) </code>.\n"
   ]
  },
  {
   "cell_type": "code",
   "execution_count": null,
   "id": "2a5687b5-14ce-4292-8a5b-7ebcbb2f90ba",
   "metadata": {},
   "outputs": [],
   "source": [
    "# bigram tagger\n",
    "\n",
    "class BigramChunker (ChunkParserI):\n",
    "    def init_(self, train_sents):\n",
    "    # convert train sents from tree format to tags\n",
    "    train_data = [[(t, c) for w, t, c in nltk.chunk.tree2conlltags(sent) ]for sent in train_sents]\n",
    "    self.tagger = nltk.BigramTagger(train_data)\n",
    "\n",
    "    def parse(self, sentence):\n",
    "        pos_tags = [pos for (word, pos) in sentence]\n",
    "        tagged_pos_tags = self.tagger.tag(pos_tags)\n",
    "        chunktags = [chunktag for (pos, chunktag) in tagged_pos_tags]\n",
    "\n",
    "    # convert to tree again\n",
    "     conlltags = [(word, pos, chunktag) for ((word, pos), chunktag) in zip(sentence, chunkti\n",
    "    return nltk.chunk.conlltags2tree(conlltags)"
   ]
  },
  {
   "cell_type": "code",
   "execution_count": null,
   "id": "b2a568ab-1f4b-43b6-88e9-9b7a6d9004f8",
   "metadata": {},
   "outputs": [],
   "source": [
    "# unigram chunker\n",
    "bigram_chunker = BigramChunker(train_trees)\n",
    "print(bigram_chunker.evaluate(valid_trees))"
   ]
  },
  {
   "cell_type": "markdown",
   "id": "f27de545-ee62-4d17-985f-6b8b1fad5b91",
   "metadata": {},
   "source": [
    "The metrics have improved significantly from unigram to bigram, which is expected. However, there are still some major\n",
    "flaws in this approach to build chunkers, the main drawback being that the model uses only the POS tag to assign the labe\n",
    "not the actual word itself.\n",
    "\n",
    "It is likely that if a model can make use of the word itself apart from the POS tag, it should be able to learn more complex\n",
    "patterns needed for this task.\n",
    "\n",
    "In fact, apart from the word, we can extract a large number of other features, such as previous word, previous tag, whethe\n",
    "the word is a numeric, whether the word is a city or an airline company etc.\n",
    "\n",
    "Thus, in the following few sections, we'll extract a variety of features and build classifiers such as Naive Bayes using those\n",
    "features.\n",
    "\n",
    "Our first step in the direction of feature extraction will be to extract an feature which indicates whether a word is a city, sta\n",
    "or county etc. Such features can be extracted by simply looking up a gazetteer.\n",
    "\n",
    "Using a Gazetteer to Lookup Cities and States\n",
    "A gazetteer is a geographical directory which stores data regarding the names of geographical entities (cities, states,\n",
    "countries) ahere. So basically, this is what we will do now in given below.\n",
    "\n",
    "Data Download url : https://github.com/grammakov/USA-cities-and-states/blob/master/us_cities_states_counties.csv\n",
    "\n",
    "we will write simple function which taken a words as input and returns a tuple indicating **Whether the word is a city, state or a country**"
   ]
  },
  {
   "cell_type": "code",
   "execution_count": 10,
   "id": "2e0d1f94-5b97-4d33-a46e-a75adae2cdb5",
   "metadata": {},
   "outputs": [],
   "source": [
    "import pandas as pd"
   ]
  },
  {
   "cell_type": "code",
   "execution_count": 21,
   "id": "32356c1f-ce53-4e1a-9999-e95445fa0d91",
   "metadata": {},
   "outputs": [
    {
     "data": {
      "text/html": [
       "<div>\n",
       "<style scoped>\n",
       "    .dataframe tbody tr th:only-of-type {\n",
       "        vertical-align: middle;\n",
       "    }\n",
       "\n",
       "    .dataframe tbody tr th {\n",
       "        vertical-align: top;\n",
       "    }\n",
       "\n",
       "    .dataframe thead th {\n",
       "        text-align: right;\n",
       "    }\n",
       "</style>\n",
       "<table border=\"1\" class=\"dataframe\">\n",
       "  <thead>\n",
       "    <tr style=\"text-align: right;\">\n",
       "      <th></th>\n",
       "      <th>City</th>\n",
       "      <th>State short</th>\n",
       "      <th>State full</th>\n",
       "      <th>County</th>\n",
       "      <th>City alias</th>\n",
       "    </tr>\n",
       "  </thead>\n",
       "  <tbody>\n",
       "    <tr>\n",
       "      <th>0</th>\n",
       "      <td>Holtsville</td>\n",
       "      <td>NY</td>\n",
       "      <td>New York</td>\n",
       "      <td>SUFFOLK</td>\n",
       "      <td>Internal Revenue Service</td>\n",
       "    </tr>\n",
       "    <tr>\n",
       "      <th>1</th>\n",
       "      <td>Holtsville</td>\n",
       "      <td>NY</td>\n",
       "      <td>New York</td>\n",
       "      <td>SUFFOLK</td>\n",
       "      <td>Holtsville</td>\n",
       "    </tr>\n",
       "    <tr>\n",
       "      <th>2</th>\n",
       "      <td>Adjuntas</td>\n",
       "      <td>PR</td>\n",
       "      <td>Puerto Rico</td>\n",
       "      <td>ADJUNTAS</td>\n",
       "      <td>URB San Joaquin</td>\n",
       "    </tr>\n",
       "    <tr>\n",
       "      <th>3</th>\n",
       "      <td>Adjuntas</td>\n",
       "      <td>PR</td>\n",
       "      <td>Puerto Rico</td>\n",
       "      <td>ADJUNTAS</td>\n",
       "      <td>Jard De Adjuntas</td>\n",
       "    </tr>\n",
       "    <tr>\n",
       "      <th>4</th>\n",
       "      <td>Adjuntas</td>\n",
       "      <td>PR</td>\n",
       "      <td>Puerto Rico</td>\n",
       "      <td>ADJUNTAS</td>\n",
       "      <td>Colinas Del Gigante</td>\n",
       "    </tr>\n",
       "    <tr>\n",
       "      <th>...</th>\n",
       "      <td>...</td>\n",
       "      <td>...</td>\n",
       "      <td>...</td>\n",
       "      <td>...</td>\n",
       "      <td>...</td>\n",
       "    </tr>\n",
       "    <tr>\n",
       "      <th>63205</th>\n",
       "      <td>Klawock</td>\n",
       "      <td>AK</td>\n",
       "      <td>Alaska</td>\n",
       "      <td>PRINCE OF WALES HYDER</td>\n",
       "      <td>Klawock</td>\n",
       "    </tr>\n",
       "    <tr>\n",
       "      <th>63206</th>\n",
       "      <td>Metlakatla</td>\n",
       "      <td>AK</td>\n",
       "      <td>Alaska</td>\n",
       "      <td>PRINCE OF WALES HYDER</td>\n",
       "      <td>Metlakatla</td>\n",
       "    </tr>\n",
       "    <tr>\n",
       "      <th>63207</th>\n",
       "      <td>Point Baker</td>\n",
       "      <td>AK</td>\n",
       "      <td>Alaska</td>\n",
       "      <td>PRINCE OF WALES HYDER</td>\n",
       "      <td>Point Baker</td>\n",
       "    </tr>\n",
       "    <tr>\n",
       "      <th>63208</th>\n",
       "      <td>Ward Cove</td>\n",
       "      <td>AK</td>\n",
       "      <td>Alaska</td>\n",
       "      <td>KETCHIKAN GATEWAY</td>\n",
       "      <td>Ward Cove</td>\n",
       "    </tr>\n",
       "    <tr>\n",
       "      <th>63209</th>\n",
       "      <td>Wrangell</td>\n",
       "      <td>AK</td>\n",
       "      <td>Alaska</td>\n",
       "      <td>WRANGELL</td>\n",
       "      <td>Wrangell</td>\n",
       "    </tr>\n",
       "  </tbody>\n",
       "</table>\n",
       "<p>63210 rows × 5 columns</p>\n",
       "</div>"
      ],
      "text/plain": [
       "              City State short   State full                 County  \\\n",
       "0       Holtsville          NY     New York                SUFFOLK   \n",
       "1       Holtsville          NY     New York                SUFFOLK   \n",
       "2         Adjuntas          PR  Puerto Rico               ADJUNTAS   \n",
       "3         Adjuntas          PR  Puerto Rico               ADJUNTAS   \n",
       "4         Adjuntas          PR  Puerto Rico               ADJUNTAS   \n",
       "...            ...         ...          ...                    ...   \n",
       "63205      Klawock          AK       Alaska  PRINCE OF WALES HYDER   \n",
       "63206   Metlakatla          AK       Alaska  PRINCE OF WALES HYDER   \n",
       "63207  Point Baker          AK       Alaska  PRINCE OF WALES HYDER   \n",
       "63208    Ward Cove          AK       Alaska      KETCHIKAN GATEWAY   \n",
       "63209     Wrangell          AK       Alaska               WRANGELL   \n",
       "\n",
       "                     City alias  \n",
       "0      Internal Revenue Service  \n",
       "1                    Holtsville  \n",
       "2               URB San Joaquin  \n",
       "3              Jard De Adjuntas  \n",
       "4           Colinas Del Gigante  \n",
       "...                         ...  \n",
       "63205                   Klawock  \n",
       "63206                Metlakatla  \n",
       "63207               Point Baker  \n",
       "63208                 Ward Cove  \n",
       "63209                  Wrangell  \n",
       "\n",
       "[63210 rows x 5 columns]"
      ]
     },
     "execution_count": 21,
     "metadata": {},
     "output_type": "execute_result"
    }
   ],
   "source": [
    "us_cities=pd.read_csv('us_cities_states_counties.csv',sep='|')\n",
    "us_cities"
   ]
  },
  {
   "cell_type": "code",
   "execution_count": 23,
   "id": "8db9b411-3514-462a-ba00-2171ab30788f",
   "metadata": {},
   "outputs": [],
   "source": [
    "# storing City, state, country as set\n",
    "cities=set(us_cities['City'].str.lower())\n",
    "states=set(us_cities['State full'].str.lower())\n",
    "country=set(us_cities['County'].str.lower())"
   ]
  },
  {
   "cell_type": "code",
   "execution_count": 26,
   "id": "ac1195db-a126-4441-a5a3-112586aa10c1",
   "metadata": {},
   "outputs": [
    {
     "name": "stdout",
     "output_type": "stream",
     "text": [
      "18853\n",
      "61\n",
      "1932\n"
     ]
    }
   ],
   "source": [
    "print(len(cities))\n",
    "print(len(states))\n",
    "print(len(country))"
   ]
  },
  {
   "cell_type": "code",
   "execution_count": 27,
   "id": "aae14a97-cfc2-41b8-8304-87853209b084",
   "metadata": {},
   "outputs": [],
   "source": [
    "# define a function to lookup a given word in cities, states, country\n",
    "def gazetteer_lookup(word):\n",
    "    return(word in cities, word in states, word in country)"
   ]
  },
  {
   "cell_type": "code",
   "execution_count": 32,
   "id": "826d7710-13d6-435d-90ca-0e06adc777d1",
   "metadata": {},
   "outputs": [
    {
     "name": "stdout",
     "output_type": "stream",
     "text": [
      "(True, True, True)\n",
      "(False, True, True)\n",
      "(True, False, True)\n"
     ]
    }
   ],
   "source": [
    "# Sample lookups\n",
    "print(gazetteer_lookup('washington'))\n",
    "print(gazetteer_lookup('utah'))\n",
    "print(gazetteer_lookup('philadelphia'))"
   ]
  },
  {
   "cell_type": "markdown",
   "id": "cbcdf528-f35d-42f7-8165-a8ef0dc50707",
   "metadata": {},
   "source": [
    "Now let's build some classifier for NER i.e. classification models which take in each word (i.e its features) as input and predcits its IOB Labels"
   ]
  },
  {
   "cell_type": "markdown",
   "id": "8c5f8f1e-464c-4773-b7cb-ca22dc7f6259",
   "metadata": {},
   "source": [
    "## Classifier for NER\n",
    "\n",
    "As discussed above, IOB tagging is a **sequence classification task** - given a sequence of words and pos tags, predict the\n",
    "IOB label of the word.\n",
    "\n",
    "One of the main advantages of classifier based chunkers is that we can use a variety of features which we think will be\n",
    "strong indicators of a word's IOB tag.\n",
    "\n",
    "For e.g. if a word is a state/city name such as 'boston', it is very likely an <code>B-fromloc.city_name </code> or  <code>toloc.city_name . </code>\n",
    "\n",
    "Similarly, we can expect that the **previous word and the previous POS tag** could help predict the IOB labels of a word; that\n",
    "**if a word is the first or the last in the sentence** may strongly help predict the IOB label, etc.\n",
    "\n",
    "Also, in all sequence classification tasks, one can use the predicted labels of the previous words as features (recall that\n",
    "HMMs compute transition probabilities).\n",
    "\n",
    "The following code implements the Naive Bayes classifer which uses a variety of **word features** for classification.\n",
    "\n",
    "The function <code>npchunk_features ()</code> takes in a sentence and the word whose features are to be extracted (defined by its\n",
    "index i in the sentence) as input and returns a dictionary of word features as output. It also takes a <code>history</code> argument - a list of already predicted previous tags to the left of the target word, which is useful if you are using them as features."
   ]
  },
  {
   "cell_type": "code",
   "execution_count": 38,
   "id": "7575d8f7-2028-499f-bc74-d437ee942435",
   "metadata": {},
   "outputs": [],
   "source": [
    "# extract features for the word at index i in a sentences\n",
    "\n",
    "def npchunk_features(sentence, i, history):\n",
    "    word,pos=sentence[i]\n",
    "\n",
    "# the first word has both previous word and previous tag undefined\n",
    "    if i==0:\n",
    "        prevword, prevpos=\"<START>\", \"<START>\"\n",
    "    else:\n",
    "       prevword, prevpos=sentences[i-1]\n",
    "\n",
    "# gazetteer lookup features\n",
    "    gazetteer =gazetteer_lookup(word)\n",
    "    return {\"pos\" : pos, \"prevpos\": prevpos, \"word\": word,\n",
    "            'word_is_city':gazetteer[0],\n",
    "           'word_is_state':  gazetteer[1],\n",
    "           'word_is_country' : gazetteer[21]},\n"
   ]
  },
  {
   "cell_type": "markdown",
   "id": "37c31560-15fe-4bfe-bcbd-52ab42091a55",
   "metadata": {},
   "source": [
    "Let's now look at word features of some examples sentences"
   ]
  },
  {
   "cell_type": "code",
   "execution_count": 39,
   "id": "9e61bf96-73dd-4135-ba3d-3d73523fec5e",
   "metadata": {},
   "outputs": [
    {
     "ename": "NameError",
     "evalue": "name 'train_pos' is not defined",
     "output_type": "error",
     "traceback": [
      "\u001b[1;31m---------------------------------------------------------------------------\u001b[0m",
      "\u001b[1;31mNameError\u001b[0m                                 Traceback (most recent call last)",
      "Cell \u001b[1;32mIn[39], line 2\u001b[0m\n\u001b[0;32m      1\u001b[0m \u001b[38;5;66;03m#example sentence\u001b[39;00m\n\u001b[1;32m----> 2\u001b[0m sent_pos\u001b[38;5;241m=\u001b[39mtrain_pos[\u001b[38;5;241m0\u001b[39m]\n\u001b[0;32m      3\u001b[0m sent_pos\n",
      "\u001b[1;31mNameError\u001b[0m: name 'train_pos' is not defined"
     ]
    }
   ],
   "source": [
    "#example sentence\n",
    "sent_pos=train_pos[0]\n",
    "sent_pos"
   ]
  },
  {
   "cell_type": "code",
   "execution_count": 40,
   "id": "c177e9f6-03ec-48a9-bcf6-3bae8767dc2e",
   "metadata": {},
   "outputs": [
    {
     "ename": "SyntaxError",
     "evalue": "invalid syntax. Maybe you meant '==' or ':=' instead of '='? (1422886266.py, line 4)",
     "output_type": "error",
     "traceback": [
      "\u001b[1;36m  Cell \u001b[1;32mIn[40], line 4\u001b[1;36m\u001b[0m\n\u001b[1;33m    print(npchunk_features((sent_pos, i, history=[]))\u001b[0m\n\u001b[1;37m                                         ^\u001b[0m\n\u001b[1;31mSyntaxError\u001b[0m\u001b[1;31m:\u001b[0m invalid syntax. Maybe you meant '==' or ':=' instead of '='?\n"
     ]
    }
   ],
   "source": [
    "#features for sentence sent_pos\n",
    "#each word's features are stored in a dict\n",
    "for i in range(len(sent_pos)):\n",
    "    print(npchunk_features((sent_pos, i, history=[]))\n",
    "    print('')"
   ]
  },
  {
   "cell_type": "markdown",
   "id": "d37033e2-2651-489a-bcc6-a62186788251",
   "metadata": {},
   "source": [
    "No, we define two classes <code>ConsecutiveNPChunkTagger</code> and <code>ConsecutiveNPChunker</code>\n",
    "The list <code>history</code> contains the list of previously predicted IOB tags, i.e. tags to the left of the target word. We can only use\n",
    "IOB tags to the left of the target word since that's all the tags we have at the time of prediction.\n",
    "\n",
    "The <code>init</code> method takes in an IOB tagged list of train_sents and loops through them. It first untags the IOB tags to\n",
    "generate (word, pos_tag) tuples stored in <code>untagged_sent</code> . These tuples are used to compute the word features.\n",
    "\n",
    "Then for each (word, IOB_tag) in <code>tagged_sent</code> , it computes the word features and appends the feature dict and the tag to\n",
    "<code>train_sents</code> . It further appends the IOB tag to <code>history </code>.\n",
    "\n",
    "The tag() method simply takes in a sentence as a list of words and predicts the IOB label of each word in the sentence.\n",
    "\n",
    "The <code>ConsecutiveNPChunker</code> class does all the the uninteresting work of converting between tree-list-tree formats (since\n",
    "NLTK's builtin classifiers need the list format). It takes in a list of sentences as trees, converts each sentence to the list form,\n",
    "and then initialises its tagger using methods already defined in the <code>ConsecutiveNPChunk</code>Tagger class. The parse\n",
    "method tags the sentence and returns it in the tree format since it is easier to print and read.\n",
    "\n"
   ]
  },
  {
   "cell_type": "code",
   "execution_count": null,
   "id": "e814bd96-10c2-4b12-8d90-bd0937a1f0c5",
   "metadata": {},
   "outputs": [],
   "source": [
    "class ConsecutiveNPChunkTagger(nltk.TaggerI):\n",
    "    def init_(self, train_sents):\n",
    "        train_set = []\n",
    "        for tagged_sent in train_sents:\n",
    "            untagged_sent = nltk.tag.untag(tagged_sent)\n",
    "            history = []\n",
    "        #compute features for each word\n",
    "            for i, (word, tag) in enumerate(tagged_sent):\n",
    "                featureset = npchunk_features(untagged_sent, i, history)\n",
    "                train_set.append( (featureset, tag) )\n",
    "                history. append(tag)\n",
    "        self.classifier = nltk.NaiveBayesClassifier.train(train_set)\n",
    "\n",
    "    def tag(self, sentence):\n",
    "        history = []\n",
    "        for i, word in enumerate(sentence):\n",
    "        featureset = npchunk_features(sentence, i, history)\n",
    "        tag = self.classifier.classify(featureset)\n",
    "        history. append(tag)\n",
    "    return zip(sentence, history)\n",
    "\n",
    "class ConsecutiveNPChunker(nltk.ChunkParserI):\n",
    "    def init_(self, train_sents):\n",
    "        tagged_sents =[[((w,t),c) for (w,t,c) in\n",
    "        nltk.chunk.tree2conlltags(sent)]\n",
    "                       for sent in train_sents]\n",
    "        self.tagger = ConsecutiveNPChunkTagger(tagged_sents)\n",
    "\n",
    "    def parse(self, sentence):\n",
    "        tagged_sents = self.tagger.tag(sentence)\n",
    "        conlltags =[(w,t,c) for ((w,t),c) in tagged_sents]\n",
    "        return nltk.chunk.conlltags2tree(conlltags)"
   ]
  },
  {
   "cell_type": "code",
   "execution_count": null,
   "id": "d71fddc6-9aff-4731-8e70-ff85985bd0ff",
   "metadata": {},
   "outputs": [],
   "source": [
    "# training the chunker\n",
    "chunker = ConsecutiveNPChunker(train_trees)"
   ]
  },
  {
   "cell_type": "code",
   "execution_count": null,
   "id": "f56d2892-5418-4518-9ccd-3d9d16395a14",
   "metadata": {},
   "outputs": [],
   "source": [
    "# evaluate the chunker\n",
    "print(chunker.evaluate(valid_trees))"
   ]
  },
  {
   "cell_type": "markdown",
   "id": "88e70741-6634-4338-ab85-fc81766be497",
   "metadata": {},
   "source": [
    "The results have improved significantly compared to the basic unigram/bigram chunkers, and they may improve further if we\n",
    "create better features.\n",
    "\n",
    "For example, if the word is 'DIGIT' (numbers are labelled as 'DIGIT' in this dataset), we can have a feature which indicates\n",
    "that (see example below). In this dataset, 4-digit numbers are encoded as 'DIGITDIGITDIGITDIGIT'."
   ]
  },
  {
   "cell_type": "code",
   "execution_count": null,
   "id": "d012dcd0-7c4b-4bcf-8dcd-63e8f0e3ad9f",
   "metadata": {},
   "outputs": [],
   "source": [
    "# example of 'DIGITDIGITDIGIT'\n",
    "train_pos[1326]"
   ]
  },
  {
   "cell_type": "code",
   "execution_count": 42,
   "id": "9237dc90-9d21-4969-b486-38b5760d792b",
   "metadata": {},
   "outputs": [],
   "source": [
    "#Lets add some of these features and see if the performance improve"
   ]
  },
  {
   "cell_type": "code",
   "execution_count": null,
   "id": "10b5c206-0c46-4bba-b3ec-5e872be35d84",
   "metadata": {},
   "outputs": [],
   "source": [
    "# extracts features for a given word i in a given sentence\n",
    "# history refers to the previous POS tags in the sentence\n",
    "def npchunk_features(sentence, i, history):\n",
    "    word, pos = sentence[i]\n",
    "    # the first word has both previous word and previous tag undefined\n",
    "    if i == 0:\n",
    "        prevword, prevpos = \"<START>\", \"<START>\"\n",
    "   else:\n",
    "      prevword, prevpos = sentence[i-1]\n",
    "\n",
    "    if i == len(sentence)-1:\n",
    "        nextword, nextpos = '<END>', '<END>'\n",
    "    else:\n",
    "        nextword, nextpos = sentence[i+1]\n",
    "\n",
    "    # gazetteer lookup features (see section below)\n",
    "    gazetteer = gazetteer_lookup(word)\n",
    "\n",
    "# adding word_is_digit feature (boolean)\n",
    "return {\"pos\": pos, \"prevpos\": prevpos, 'word' :word,\n",
    "        'word_is_city': gazetteer[0],\n",
    "        'word_is_state': gazetteer[1],\n",
    "        'word_is_county': gazetteer[2],\n",
    "        'word_is_digit': word in 'DIGITDIGITDIGIT', \n",
    "        'nextword' : nextword, \n",
    "        'nextpos': nextpos}"
   ]
  },
  {
   "cell_type": "code",
   "execution_count": null,
   "id": "e1a7d97f-d570-4846-bd8f-237f7c680cc5",
   "metadata": {},
   "outputs": [],
   "source": [
    "#train and evaluate\n",
    "chunker = ConsecutiveNPChunker(train_trees)\n",
    "print(chunker.evaluate(valid_trees))"
   ]
  },
  {
   "cell_type": "code",
   "execution_count": null,
   "id": "cf0bd94b-29ff-47b3-a20c-f88ef623aee3",
   "metadata": {},
   "outputs": [],
   "source": [
    "# most top-n informative features\n",
    "chunker.tagger.classifier.show_most_informative_features(15)"
   ]
  },
  {
   "cell_type": "markdown",
   "id": "c7864ab4-73a4-4023-b17d-bdbbe5cc84a0",
   "metadata": {},
   "source": [
    "we can see that some inforamtive features are <code> POS, word, word_is_digit </code> etc \n",
    "\n",
    "When pos=JJS(superlative adjective e.g. \"cheapest\"), the ratio of probability of the lebels <code> B_cost:0 </code> is about 14237:1\n",
    "\n",
    "we cal also try classifiers that come with NLTK -let try building decision tree."
   ]
  },
  {
   "cell_type": "code",
   "execution_count": null,
   "id": "4d074507-be0c-4251-9ac1-40d61b324306",
   "metadata": {},
   "outputs": [],
   "source": []
  }
 ],
 "metadata": {
  "kernelspec": {
   "display_name": "Python 3 (ipykernel)",
   "language": "python",
   "name": "python3"
  },
  "language_info": {
   "codemirror_mode": {
    "name": "ipython",
    "version": 3
   },
   "file_extension": ".py",
   "mimetype": "text/x-python",
   "name": "python",
   "nbconvert_exporter": "python",
   "pygments_lexer": "ipython3",
   "version": "3.11.7"
  }
 },
 "nbformat": 4,
 "nbformat_minor": 5
}
